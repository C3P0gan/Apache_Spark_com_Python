{
 "cells": [
  {
   "cell_type": "markdown",
   "id": "2649e248-5d6f-4718-aa9e-922e6f0e8b38",
   "metadata": {},
   "source": [
    "# Spark: criando modelos de classificação"
   ]
  },
  {
   "cell_type": "markdown",
   "id": "fc95f59f-1b79-4f8f-875e-c714432c3815",
   "metadata": {},
   "source": [
    "## 01. Preparando os dados\n",
    "---"
   ]
  },
  {
   "cell_type": "markdown",
   "id": "2019dac5-6605-4499-b020-7bff9437cc53",
   "metadata": {},
   "source": [
    "### O problema é a ferramenta"
   ]
  },
  {
   "cell_type": "code",
   "execution_count": 1,
   "id": "e546e531-7179-4489-b956-bccdbfef9e6c",
   "metadata": {},
   "outputs": [],
   "source": [
    "from pyspark.sql import SparkSession"
   ]
  },
  {
   "cell_type": "code",
   "execution_count": 2,
   "id": "2dc78a91-22b7-4125-92a3-f2103fb5f3ae",
   "metadata": {},
   "outputs": [
    {
     "name": "stderr",
     "output_type": "stream",
     "text": [
      "25/09/03 14:22:30 WARN Utils: Your hostname, DSN-1003 resolves to a loopback address: 127.0.1.1; using 172.29.1.248 instead (on interface enp3s0)\n",
      "25/09/03 14:22:30 WARN Utils: Set SPARK_LOCAL_IP if you need to bind to another address\n",
      "Setting default log level to \"WARN\".\n",
      "To adjust logging level use sc.setLogLevel(newLevel). For SparkR, use setLogLevel(newLevel).\n",
      "25/09/03 14:22:31 WARN NativeCodeLoader: Unable to load native-hadoop library for your platform... using builtin-java classes where applicable\n"
     ]
    },
    {
     "data": {
      "text/html": [
       "\n",
       "            <div>\n",
       "                <p><b>SparkSession - in-memory</b></p>\n",
       "                \n",
       "        <div>\n",
       "            <p><b>SparkContext</b></p>\n",
       "\n",
       "            <p><a href=\"http://172.29.1.248:4040\">Spark UI</a></p>\n",
       "\n",
       "            <dl>\n",
       "              <dt>Version</dt>\n",
       "                <dd><code>v3.5.4</code></dd>\n",
       "              <dt>Master</dt>\n",
       "                <dd><code>local[*]</code></dd>\n",
       "              <dt>AppName</dt>\n",
       "                <dd><code>Classificação com Spark</code></dd>\n",
       "            </dl>\n",
       "        </div>\n",
       "        \n",
       "            </div>\n",
       "        "
      ],
      "text/plain": [
       "<pyspark.sql.session.SparkSession at 0x7ec9383b39b0>"
      ]
     },
     "execution_count": 2,
     "metadata": {},
     "output_type": "execute_result"
    }
   ],
   "source": [
    "spark = SparkSession.builder \\\n",
    "    .master(\"local[*]\") \\\n",
    "    .appName(\"Classificação com Spark\") \\\n",
    "    .getOrCreate()\n",
    "\n",
    "spark"
   ]
  },
  {
   "cell_type": "markdown",
   "id": "60b00445-d25b-4314-a73c-5524702f8c2f",
   "metadata": {},
   "source": [
    "[PySpark Documentation](https://spark.apache.org/docs/latest/api/python/)"
   ]
  },
  {
   "cell_type": "markdown",
   "id": "1735d413-1d1b-4ffd-974e-dc055c553235",
   "metadata": {},
   "source": [
    "### Carregar e explorar os dados"
   ]
  },
  {
   "cell_type": "code",
   "execution_count": 3,
   "id": "39bcddc2-7888-4e59-a418-2d493045b994",
   "metadata": {},
   "outputs": [
    {
     "data": {
      "text/plain": [
       "DataFrame[id: int, Churn: string, Mais65anos: int, Conjuge: string, Dependentes: string, MesesDeContrato: int, TelefoneFixo: string, MaisDeUmaLinhaTelefonica: string, Internet: string, SegurancaOnline: string, BackupOnline: string, SeguroDispositivo: string, SuporteTecnico: string, TVaCabo: string, StreamingFilmes: string, TipoContrato: string, ContaCorreio: string, MetodoPagamento: string, MesesCobrados: double]"
      ]
     },
     "execution_count": 3,
     "metadata": {},
     "output_type": "execute_result"
    },
    {
     "name": "stderr",
     "output_type": "stream",
     "text": [
      "25/09/03 14:22:43 WARN GarbageCollectionMetrics: To enable non-built-in garbage collector(s) List(G1 Concurrent GC), users should configure it(them) to spark.eventLog.gcMetrics.youngGenerationGarbageCollectors or spark.eventLog.gcMetrics.oldGenerationGarbageCollectors\n"
     ]
    }
   ],
   "source": [
    "dados = spark.read.csv(\n",
    "    path=\"content/database/dados_clientes.csv\",\n",
    "    sep=\",\",\n",
    "    header=True,\n",
    "    inferSchema=True\n",
    ")\n",
    "dados"
   ]
  },
  {
   "cell_type": "code",
   "execution_count": 4,
   "id": "85489877-ce2a-4509-8ffe-43a455e9fea9",
   "metadata": {},
   "outputs": [
    {
     "name": "stdout",
     "output_type": "stream",
     "text": [
      "+---+-----+----------+-------+-----------+---------------+------------+------------------------+-----------+------------------+------------------+------------------+------------------+------------------+------------------+------------+------------+----------------+-------------+\n",
      "| id|Churn|Mais65anos|Conjuge|Dependentes|MesesDeContrato|TelefoneFixo|MaisDeUmaLinhaTelefonica|   Internet|   SegurancaOnline|      BackupOnline| SeguroDispositivo|    SuporteTecnico|           TVaCabo|   StreamingFilmes|TipoContrato|ContaCorreio| MetodoPagamento|MesesCobrados|\n",
      "+---+-----+----------+-------+-----------+---------------+------------+------------------------+-----------+------------------+------------------+------------------+------------------+------------------+------------------+------------+------------+----------------+-------------+\n",
      "|  0|  Nao|         0|    Sim|        Nao|              1|         Nao|    SemServicoTelefonico|        DSL|               Nao|               Sim|               Nao|               Nao|               Nao|               Nao| Mensalmente|         Sim|BoletoEletronico|        29.85|\n",
      "|  1|  Nao|         0|    Nao|        Nao|             34|         Sim|                     Nao|        DSL|               Sim|               Nao|               Sim|               Nao|               Nao|               Nao|       UmAno|         Nao|          Boleto|        56.95|\n",
      "|  2|  Sim|         0|    Nao|        Nao|              2|         Sim|                     Nao|        DSL|               Sim|               Sim|               Nao|               Nao|               Nao|               Nao| Mensalmente|         Sim|          Boleto|        53.85|\n",
      "|  3|  Nao|         0|    Nao|        Nao|             45|         Nao|    SemServicoTelefonico|        DSL|               Sim|               Nao|               Sim|               Sim|               Nao|               Nao|       UmAno|         Nao|   DebitoEmConta|         42.3|\n",
      "|  4|  Sim|         0|    Nao|        Nao|              2|         Sim|                     Nao|FibraOptica|               Nao|               Nao|               Nao|               Nao|               Nao|               Nao| Mensalmente|         Sim|BoletoEletronico|         70.7|\n",
      "|  5|  Sim|         0|    Nao|        Nao|              8|         Sim|                     Sim|FibraOptica|               Nao|               Nao|               Sim|               Nao|               Sim|               Sim| Mensalmente|         Sim|BoletoEletronico|        99.65|\n",
      "|  6|  Nao|         0|    Nao|        Sim|             22|         Sim|                     Sim|FibraOptica|               Nao|               Sim|               Nao|               Nao|               Sim|               Nao| Mensalmente|         Sim|   CartaoCredito|         89.1|\n",
      "|  7|  Nao|         0|    Nao|        Nao|             10|         Nao|    SemServicoTelefonico|        DSL|               Sim|               Nao|               Nao|               Nao|               Nao|               Nao| Mensalmente|         Nao|          Boleto|        29.75|\n",
      "|  8|  Sim|         0|    Sim|        Nao|             28|         Sim|                     Sim|FibraOptica|               Nao|               Nao|               Sim|               Sim|               Sim|               Sim| Mensalmente|         Sim|BoletoEletronico|        104.8|\n",
      "|  9|  Nao|         0|    Nao|        Sim|             62|         Sim|                     Nao|        DSL|               Sim|               Sim|               Nao|               Nao|               Nao|               Nao|       UmAno|         Nao|   DebitoEmConta|        56.15|\n",
      "| 10|  Nao|         0|    Sim|        Sim|             13|         Sim|                     Nao|        DSL|               Sim|               Nao|               Nao|               Nao|               Nao|               Nao| Mensalmente|         Sim|          Boleto|        49.95|\n",
      "| 11|  Nao|         0|    Nao|        Nao|             16|         Sim|                     Nao|        Nao|SemServicoInternet|SemServicoInternet|SemServicoInternet|SemServicoInternet|SemServicoInternet|SemServicoInternet|    DoisAnos|         Nao|   CartaoCredito|        18.95|\n",
      "| 12|  Nao|         0|    Sim|        Nao|             58|         Sim|                     Sim|FibraOptica|               Nao|               Nao|               Sim|               Nao|               Sim|               Sim|       UmAno|         Nao|   CartaoCredito|       100.35|\n",
      "| 13|  Sim|         0|    Nao|        Nao|             49|         Sim|                     Sim|FibraOptica|               Nao|               Sim|               Sim|               Nao|               Sim|               Sim| Mensalmente|         Sim|   DebitoEmConta|        103.7|\n",
      "| 14|  Nao|         0|    Nao|        Nao|             25|         Sim|                     Nao|FibraOptica|               Sim|               Nao|               Sim|               Sim|               Sim|               Sim| Mensalmente|         Sim|BoletoEletronico|        105.5|\n",
      "| 15|  Nao|         0|    Sim|        Sim|             69|         Sim|                     Sim|FibraOptica|               Sim|               Sim|               Sim|               Sim|               Sim|               Sim|    DoisAnos|         Nao|   CartaoCredito|       113.25|\n",
      "| 16|  Nao|         0|    Nao|        Nao|             52|         Sim|                     Nao|        Nao|SemServicoInternet|SemServicoInternet|SemServicoInternet|SemServicoInternet|SemServicoInternet|SemServicoInternet|       UmAno|         Nao|          Boleto|        20.65|\n",
      "| 17|  Nao|         0|    Nao|        Sim|             71|         Sim|                     Sim|FibraOptica|               Sim|               Nao|               Sim|               Nao|               Sim|               Sim|    DoisAnos|         Nao|   DebitoEmConta|        106.7|\n",
      "| 18|  Sim|         0|    Sim|        Sim|             10|         Sim|                     Nao|        DSL|               Nao|               Nao|               Sim|               Sim|               Nao|               Nao| Mensalmente|         Nao|   CartaoCredito|         55.2|\n",
      "| 19|  Nao|         0|    Nao|        Nao|             21|         Sim|                     Nao|FibraOptica|               Nao|               Sim|               Sim|               Nao|               Nao|               Sim| Mensalmente|         Sim|BoletoEletronico|        90.05|\n",
      "+---+-----+----------+-------+-----------+---------------+------------+------------------------+-----------+------------------+------------------+------------------+------------------+------------------+------------------+------------+------------+----------------+-------------+\n",
      "only showing top 20 rows\n",
      "\n"
     ]
    }
   ],
   "source": [
    "dados.show()"
   ]
  },
  {
   "cell_type": "code",
   "execution_count": 5,
   "id": "1e5a3396-3be2-4480-92d1-4126ac434c4c",
   "metadata": {},
   "outputs": [
    {
     "data": {
      "text/plain": [
       "10348"
      ]
     },
     "execution_count": 5,
     "metadata": {},
     "output_type": "execute_result"
    }
   ],
   "source": [
    "dados.count()"
   ]
  },
  {
   "cell_type": "code",
   "execution_count": 6,
   "id": "ca2251ee-45b3-4988-ab47-c55b21f17c88",
   "metadata": {},
   "outputs": [
    {
     "name": "stdout",
     "output_type": "stream",
     "text": [
      "+-----+-----+\n",
      "|Churn|count|\n",
      "+-----+-----+\n",
      "|  Sim| 5174|\n",
      "|  Nao| 5174|\n",
      "+-----+-----+\n",
      "\n"
     ]
    }
   ],
   "source": [
    "dados.groupBy(\"Churn\").count().show()"
   ]
  },
  {
   "cell_type": "code",
   "execution_count": 7,
   "id": "53379651-e608-431c-bd9c-42553d7dc8f3",
   "metadata": {},
   "outputs": [
    {
     "name": "stdout",
     "output_type": "stream",
     "text": [
      "root\n",
      " |-- id: integer (nullable = true)\n",
      " |-- Churn: string (nullable = true)\n",
      " |-- Mais65anos: integer (nullable = true)\n",
      " |-- Conjuge: string (nullable = true)\n",
      " |-- Dependentes: string (nullable = true)\n",
      " |-- MesesDeContrato: integer (nullable = true)\n",
      " |-- TelefoneFixo: string (nullable = true)\n",
      " |-- MaisDeUmaLinhaTelefonica: string (nullable = true)\n",
      " |-- Internet: string (nullable = true)\n",
      " |-- SegurancaOnline: string (nullable = true)\n",
      " |-- BackupOnline: string (nullable = true)\n",
      " |-- SeguroDispositivo: string (nullable = true)\n",
      " |-- SuporteTecnico: string (nullable = true)\n",
      " |-- TVaCabo: string (nullable = true)\n",
      " |-- StreamingFilmes: string (nullable = true)\n",
      " |-- TipoContrato: string (nullable = true)\n",
      " |-- ContaCorreio: string (nullable = true)\n",
      " |-- MetodoPagamento: string (nullable = true)\n",
      " |-- MesesCobrados: double (nullable = true)\n",
      "\n"
     ]
    }
   ],
   "source": [
    "dados.printSchema()"
   ]
  },
  {
   "cell_type": "markdown",
   "id": "2c35ae28-6b4e-44b2-be78-3a7a019fa585",
   "metadata": {},
   "source": [
    "### Tratando os dados"
   ]
  },
  {
   "cell_type": "code",
   "execution_count": 4,
   "id": "7e588ae6-d83f-4ae4-8fb8-3047c78b46ff",
   "metadata": {},
   "outputs": [],
   "source": [
    "colunas_binarias = [\n",
    "    \"Churn\",\n",
    "    \"Conjuge\",\n",
    "    \"Dependentes\",\n",
    "    \"TelefoneFixo\",\n",
    "    \"MaisDeUmaLinhaTelefonica\",\n",
    "    \"SegurancaOnline\",\n",
    "    \"BackupOnline\",\n",
    "    \"SeguroDispositivo\",\n",
    "    \"SuporteTecnico\",\n",
    "    \"TVaCabo\",\n",
    "    \"StreamingFilmes\",\n",
    "    \"ContaCorreio\"\n",
    "]"
   ]
  },
  {
   "cell_type": "code",
   "execution_count": 5,
   "id": "250ebfd1-6d94-45a1-9d2a-1ba947d99d8f",
   "metadata": {},
   "outputs": [],
   "source": [
    "from pyspark.sql import functions as f"
   ]
  },
  {
   "cell_type": "code",
   "execution_count": 6,
   "id": "5fa9abea-f454-43c6-846d-45ed2685231a",
   "metadata": {},
   "outputs": [],
   "source": [
    "todas_colunas = [f.when(f.col(col) == \"Sim\", 1).otherwise(0).alias(col) for col in colunas_binarias]"
   ]
  },
  {
   "cell_type": "code",
   "execution_count": 7,
   "id": "8e2c4143-617d-41f2-84f7-be9ef29559ca",
   "metadata": {},
   "outputs": [
    {
     "data": {
      "text/plain": [
       "['id',\n",
       " 'Mais65anos',\n",
       " 'MesesDeContrato',\n",
       " 'Internet',\n",
       " 'TipoContrato',\n",
       " 'MetodoPagamento',\n",
       " 'MesesCobrados',\n",
       " Column<'CASE WHEN (Churn = Sim) THEN 1 ELSE 0 END AS Churn'>,\n",
       " Column<'CASE WHEN (Conjuge = Sim) THEN 1 ELSE 0 END AS Conjuge'>,\n",
       " Column<'CASE WHEN (Dependentes = Sim) THEN 1 ELSE 0 END AS Dependentes'>,\n",
       " Column<'CASE WHEN (TelefoneFixo = Sim) THEN 1 ELSE 0 END AS TelefoneFixo'>,\n",
       " Column<'CASE WHEN (MaisDeUmaLinhaTelefonica = Sim) THEN 1 ELSE 0 END AS MaisDeUmaLinhaTelefonica'>,\n",
       " Column<'CASE WHEN (SegurancaOnline = Sim) THEN 1 ELSE 0 END AS SegurancaOnline'>,\n",
       " Column<'CASE WHEN (BackupOnline = Sim) THEN 1 ELSE 0 END AS BackupOnline'>,\n",
       " Column<'CASE WHEN (SeguroDispositivo = Sim) THEN 1 ELSE 0 END AS SeguroDispositivo'>,\n",
       " Column<'CASE WHEN (SuporteTecnico = Sim) THEN 1 ELSE 0 END AS SuporteTecnico'>,\n",
       " Column<'CASE WHEN (TVaCabo = Sim) THEN 1 ELSE 0 END AS TVaCabo'>,\n",
       " Column<'CASE WHEN (StreamingFilmes = Sim) THEN 1 ELSE 0 END AS StreamingFilmes'>,\n",
       " Column<'CASE WHEN (ContaCorreio = Sim) THEN 1 ELSE 0 END AS ContaCorreio'>]"
      ]
     },
     "execution_count": 7,
     "metadata": {},
     "output_type": "execute_result"
    }
   ],
   "source": [
    "[todas_colunas.insert(0, col) for col in reversed(dados.columns) if col not in colunas_binarias]\n",
    "todas_colunas"
   ]
  },
  {
   "cell_type": "code",
   "execution_count": 8,
   "id": "3d40949e-99c4-4c6f-87a0-bea37c21050b",
   "metadata": {},
   "outputs": [
    {
     "name": "stdout",
     "output_type": "stream",
     "text": [
      "+---+----------+---------------+-----------+------------+----------------+-------------+-----+-------+-----------+------------+------------------------+---------------+------------+-----------------+--------------+-------+---------------+------------+\n",
      "| id|Mais65anos|MesesDeContrato|   Internet|TipoContrato| MetodoPagamento|MesesCobrados|Churn|Conjuge|Dependentes|TelefoneFixo|MaisDeUmaLinhaTelefonica|SegurancaOnline|BackupOnline|SeguroDispositivo|SuporteTecnico|TVaCabo|StreamingFilmes|ContaCorreio|\n",
      "+---+----------+---------------+-----------+------------+----------------+-------------+-----+-------+-----------+------------+------------------------+---------------+------------+-----------------+--------------+-------+---------------+------------+\n",
      "|  0|         0|              1|        DSL| Mensalmente|BoletoEletronico|        29.85|    0|      1|          0|           0|                       0|              0|           1|                0|             0|      0|              0|           1|\n",
      "|  1|         0|             34|        DSL|       UmAno|          Boleto|        56.95|    0|      0|          0|           1|                       0|              1|           0|                1|             0|      0|              0|           0|\n",
      "|  2|         0|              2|        DSL| Mensalmente|          Boleto|        53.85|    1|      0|          0|           1|                       0|              1|           1|                0|             0|      0|              0|           1|\n",
      "|  3|         0|             45|        DSL|       UmAno|   DebitoEmConta|         42.3|    0|      0|          0|           0|                       0|              1|           0|                1|             1|      0|              0|           0|\n",
      "|  4|         0|              2|FibraOptica| Mensalmente|BoletoEletronico|         70.7|    1|      0|          0|           1|                       0|              0|           0|                0|             0|      0|              0|           1|\n",
      "|  5|         0|              8|FibraOptica| Mensalmente|BoletoEletronico|        99.65|    1|      0|          0|           1|                       1|              0|           0|                1|             0|      1|              1|           1|\n",
      "|  6|         0|             22|FibraOptica| Mensalmente|   CartaoCredito|         89.1|    0|      0|          1|           1|                       1|              0|           1|                0|             0|      1|              0|           1|\n",
      "|  7|         0|             10|        DSL| Mensalmente|          Boleto|        29.75|    0|      0|          0|           0|                       0|              1|           0|                0|             0|      0|              0|           0|\n",
      "|  8|         0|             28|FibraOptica| Mensalmente|BoletoEletronico|        104.8|    1|      1|          0|           1|                       1|              0|           0|                1|             1|      1|              1|           1|\n",
      "|  9|         0|             62|        DSL|       UmAno|   DebitoEmConta|        56.15|    0|      0|          1|           1|                       0|              1|           1|                0|             0|      0|              0|           0|\n",
      "| 10|         0|             13|        DSL| Mensalmente|          Boleto|        49.95|    0|      1|          1|           1|                       0|              1|           0|                0|             0|      0|              0|           1|\n",
      "| 11|         0|             16|        Nao|    DoisAnos|   CartaoCredito|        18.95|    0|      0|          0|           1|                       0|              0|           0|                0|             0|      0|              0|           0|\n",
      "| 12|         0|             58|FibraOptica|       UmAno|   CartaoCredito|       100.35|    0|      1|          0|           1|                       1|              0|           0|                1|             0|      1|              1|           0|\n",
      "| 13|         0|             49|FibraOptica| Mensalmente|   DebitoEmConta|        103.7|    1|      0|          0|           1|                       1|              0|           1|                1|             0|      1|              1|           1|\n",
      "| 14|         0|             25|FibraOptica| Mensalmente|BoletoEletronico|        105.5|    0|      0|          0|           1|                       0|              1|           0|                1|             1|      1|              1|           1|\n",
      "| 15|         0|             69|FibraOptica|    DoisAnos|   CartaoCredito|       113.25|    0|      1|          1|           1|                       1|              1|           1|                1|             1|      1|              1|           0|\n",
      "| 16|         0|             52|        Nao|       UmAno|          Boleto|        20.65|    0|      0|          0|           1|                       0|              0|           0|                0|             0|      0|              0|           0|\n",
      "| 17|         0|             71|FibraOptica|    DoisAnos|   DebitoEmConta|        106.7|    0|      0|          1|           1|                       1|              1|           0|                1|             0|      1|              1|           0|\n",
      "| 18|         0|             10|        DSL| Mensalmente|   CartaoCredito|         55.2|    1|      1|          1|           1|                       0|              0|           0|                1|             1|      0|              0|           0|\n",
      "| 19|         0|             21|FibraOptica| Mensalmente|BoletoEletronico|        90.05|    0|      0|          0|           1|                       0|              0|           1|                1|             0|      0|              1|           1|\n",
      "+---+----------+---------------+-----------+------------+----------------+-------------+-----+-------+-----------+------------+------------------------+---------------+------------+-----------------+--------------+-------+---------------+------------+\n",
      "only showing top 20 rows\n",
      "\n"
     ]
    }
   ],
   "source": [
    "dados.select(todas_colunas).show()"
   ]
  },
  {
   "cell_type": "code",
   "execution_count": 9,
   "id": "5aa4abc3-fc3a-488b-826e-d47d954ec695",
   "metadata": {},
   "outputs": [],
   "source": [
    "dataset = dados.select(todas_colunas)"
   ]
  },
  {
   "cell_type": "code",
   "execution_count": 14,
   "id": "eb070704-c96b-4f1e-ae41-8006df6bdfe3",
   "metadata": {},
   "outputs": [
    {
     "name": "stdout",
     "output_type": "stream",
     "text": [
      "root\n",
      " |-- id: integer (nullable = true)\n",
      " |-- Mais65anos: integer (nullable = true)\n",
      " |-- MesesDeContrato: integer (nullable = true)\n",
      " |-- Internet: string (nullable = true)\n",
      " |-- TipoContrato: string (nullable = true)\n",
      " |-- MetodoPagamento: string (nullable = true)\n",
      " |-- MesesCobrados: double (nullable = true)\n",
      " |-- Churn: integer (nullable = false)\n",
      " |-- Conjuge: integer (nullable = false)\n",
      " |-- Dependentes: integer (nullable = false)\n",
      " |-- TelefoneFixo: integer (nullable = false)\n",
      " |-- MaisDeUmaLinhaTelefonica: integer (nullable = false)\n",
      " |-- SegurancaOnline: integer (nullable = false)\n",
      " |-- BackupOnline: integer (nullable = false)\n",
      " |-- SeguroDispositivo: integer (nullable = false)\n",
      " |-- SuporteTecnico: integer (nullable = false)\n",
      " |-- TVaCabo: integer (nullable = false)\n",
      " |-- StreamingFilmes: integer (nullable = false)\n",
      " |-- ContaCorreio: integer (nullable = false)\n",
      "\n"
     ]
    }
   ],
   "source": [
    "dataset.printSchema()"
   ]
  },
  {
   "cell_type": "markdown",
   "id": "52f10508-a5bb-4c17-8bea-035b88c72c12",
   "metadata": {},
   "source": [
    "### Criando Dummies"
   ]
  },
  {
   "cell_type": "code",
   "execution_count": 15,
   "id": "71e79ba7-05b8-4d37-99d2-cae27024624a",
   "metadata": {},
   "outputs": [
    {
     "name": "stdout",
     "output_type": "stream",
     "text": [
      "+-----------+------------+----------------+\n",
      "|   Internet|TipoContrato| MetodoPagamento|\n",
      "+-----------+------------+----------------+\n",
      "|        DSL| Mensalmente|BoletoEletronico|\n",
      "|        DSL|       UmAno|          Boleto|\n",
      "|        DSL| Mensalmente|          Boleto|\n",
      "|        DSL|       UmAno|   DebitoEmConta|\n",
      "|FibraOptica| Mensalmente|BoletoEletronico|\n",
      "|FibraOptica| Mensalmente|BoletoEletronico|\n",
      "|FibraOptica| Mensalmente|   CartaoCredito|\n",
      "|        DSL| Mensalmente|          Boleto|\n",
      "|FibraOptica| Mensalmente|BoletoEletronico|\n",
      "|        DSL|       UmAno|   DebitoEmConta|\n",
      "|        DSL| Mensalmente|          Boleto|\n",
      "|        Nao|    DoisAnos|   CartaoCredito|\n",
      "|FibraOptica|       UmAno|   CartaoCredito|\n",
      "|FibraOptica| Mensalmente|   DebitoEmConta|\n",
      "|FibraOptica| Mensalmente|BoletoEletronico|\n",
      "|FibraOptica|    DoisAnos|   CartaoCredito|\n",
      "|        Nao|       UmAno|          Boleto|\n",
      "|FibraOptica|    DoisAnos|   DebitoEmConta|\n",
      "|        DSL| Mensalmente|   CartaoCredito|\n",
      "|FibraOptica| Mensalmente|BoletoEletronico|\n",
      "+-----------+------------+----------------+\n",
      "only showing top 20 rows\n",
      "\n"
     ]
    }
   ],
   "source": [
    "dados.select([\"Internet\", \"TipoContrato\", \"MetodoPagamento\"]).show()"
   ]
  },
  {
   "cell_type": "code",
   "execution_count": 16,
   "id": "6a13aff4-9a5d-4804-90a4-b1d047cdc01e",
   "metadata": {},
   "outputs": [
    {
     "name": "stdout",
     "output_type": "stream",
     "text": [
      "+----+---+-----------+---+\n",
      "|  id|DSL|FibraOptica|Nao|\n",
      "+----+---+-----------+---+\n",
      "|7982|  1|          0|  0|\n",
      "|9465|  0|          1|  0|\n",
      "|2122|  1|          0|  0|\n",
      "|3997|  1|          0|  0|\n",
      "|6654|  0|          1|  0|\n",
      "|7880|  0|          1|  0|\n",
      "|4519|  0|          1|  0|\n",
      "|6466|  0|          1|  0|\n",
      "| 496|  1|          0|  0|\n",
      "|7833|  0|          1|  0|\n",
      "|1591|  0|          0|  1|\n",
      "|2866|  0|          1|  0|\n",
      "|8592|  0|          1|  0|\n",
      "|1829|  0|          1|  0|\n",
      "| 463|  0|          1|  0|\n",
      "|4900|  0|          1|  0|\n",
      "|4818|  0|          1|  0|\n",
      "|7554|  1|          0|  0|\n",
      "|1342|  0|          0|  1|\n",
      "|5300|  0|          1|  0|\n",
      "+----+---+-----------+---+\n",
      "only showing top 20 rows\n",
      "\n"
     ]
    }
   ],
   "source": [
    "dataset.groupBy(\"id\").pivot(\"Internet\").agg(f.lit(1)).na.fill(0).show()"
   ]
  },
  {
   "cell_type": "code",
   "execution_count": 10,
   "id": "07a02b8d-8b3a-488a-80af-30b53520f136",
   "metadata": {},
   "outputs": [],
   "source": [
    "internet = dataset.groupBy(\"id\").pivot(\"Internet\").agg(f.lit(1)).na.fill(0)\n",
    "tipo_contrato = dataset.groupBy(\"id\").pivot(\"TipoContrato\").agg(f.lit(1)).na.fill(0)\n",
    "metodo_pagamento = dataset.groupBy(\"id\").pivot(\"MetodoPagamento\").agg(f.lit(1)).na.fill(0)"
   ]
  },
  {
   "cell_type": "code",
   "execution_count": 11,
   "id": "7f23531f-1319-4b60-8258-1effb0ff1a13",
   "metadata": {},
   "outputs": [
    {
     "name": "stderr",
     "output_type": "stream",
     "text": [
      "25/09/03 14:23:13 WARN SparkStringUtils: Truncated the string representation of a plan since it was too large. This behavior can be adjusted by setting 'spark.sql.debug.maxToStringFields'.\n"
     ]
    },
    {
     "name": "stdout",
     "output_type": "stream",
     "text": [
      "+----+----------+---------------+-----------------+-----+-------+-----------+------------+------------------------+---------------+------------+-----------------+--------------+-------+---------------+------------+------------+--------------------+------------+------------------------+------------------+---------------------+-----------------------------+-----------------------------+--------------------------------+----------------------+\n",
      "|  id|Mais65anos|MesesDeContrato|    MesesCobrados|Churn|Conjuge|Dependentes|TelefoneFixo|MaisDeUmaLinhaTelefonica|SegurancaOnline|BackupOnline|SeguroDispositivo|SuporteTecnico|TVaCabo|StreamingFilmes|ContaCorreio|Internet_DSL|Internet_FibraOptica|Internet_Nao|TipoContrato_Mensalmente|TipoContrato_UmAno|TipoContrato_DoisAnos|MetodoPagamento_DebitoEmConta|MetodoPagamento_CartaoCredito|MetodoPagamento_BoletoEletronico|MetodoPagamento_Boleto|\n",
      "+----+----------+---------------+-----------------+-----+-------+-----------+------------+------------------------+---------------+------------+-----------------+--------------+-------+---------------+------------+------------+--------------------+------------+------------------------+------------------+---------------------+-----------------------------+-----------------------------+--------------------------------+----------------------+\n",
      "|7982|         0|              1|45.30540797610398|    1|      0|          0|           0|                       0|              0|           0|                0|             0|      1|              1|           1|           1|                   0|           0|                       1|                 0|                    0|                            0|                            0|                               1|                     0|\n",
      "|9465|         0|             60|103.6142230120257|    1|      1|          0|           1|                       1|              0|           1|                1|             0|      1|              1|           1|           0|                   1|           0|                       1|                 0|                    0|                            0|                            0|                               1|                     0|\n",
      "|2122|         0|             12|            75.85|    0|      0|          0|           1|                       1|              0|           0|                0|             1|      1|              1|           1|           1|                   0|           0|                       0|                 1|                    0|                            0|                            0|                               0|                     1|\n",
      "|3997|         0|             69|            61.45|    0|      1|          0|           1|                       0|              0|           1|                0|             0|      0|              1|           1|           1|                   0|           0|                       0|                 0|                    1|                            0|                            1|                               0|                     0|\n",
      "|6654|         0|              7|             86.5|    1|      1|          0|           1|                       1|              0|           0|                0|             0|      1|              0|           1|           0|                   1|           0|                       1|                 0|                    0|                            0|                            0|                               1|                     0|\n",
      "|7880|         0|             14|85.03742670311915|    1|      0|          0|           1|                       1|              0|           0|                0|             0|      0|              1|           1|           0|                   1|           0|                       1|                 0|                    0|                            0|                            0|                               1|                     0|\n",
      "|4519|         0|             57|            109.4|    0|      1|          0|           1|                       1|              0|           1|                1|             1|      1|              1|           1|           0|                   1|           0|                       0|                 1|                    0|                            1|                            0|                               0|                     0|\n",
      "|6466|         0|             18|            74.15|    0|      0|          0|           1|                       1|              0|           0|                0|             0|      0|              0|           0|           0|                   1|           0|                       1|                 0|                    0|                            0|                            0|                               0|                     1|\n",
      "| 496|         0|             28|             60.9|    0|      1|          0|           1|                       0|              1|           1|                0|             1|      0|              0|           0|           1|                   0|           0|                       1|                 0|                    0|                            0|                            0|                               0|                     1|\n",
      "|7833|         0|             46| 80.8824189403559|    1|      1|          0|           1|                       0|              0|           0|                0|             0|      0|              1|           1|           0|                   1|           0|                       1|                 0|                    0|                            0|                            0|                               1|                     0|\n",
      "|1591|         0|             17|             21.1|    0|      0|          0|           1|                       0|              0|           0|                0|             0|      0|              0|           0|           0|                   0|           1|                       1|                 0|                    0|                            0|                            1|                               0|                     0|\n",
      "|2866|         0|             12|             84.6|    0|      0|          0|           1|                       0|              0|           1|                0|             0|      0|              1|           1|           0|                   1|           0|                       1|                 0|                    0|                            0|                            0|                               1|                     0|\n",
      "|8592|         0|              5|82.71735660557214|    1|      1|          0|           1|                       1|              0|           0|                0|             0|      1|              0|           1|           0|                   1|           0|                       1|                 0|                    0|                            0|                            0|                               1|                     0|\n",
      "|1829|         0|              8|            74.85|    0|      0|          0|           1|                       1|              0|           0|                0|             0|      0|              0|           1|           0|                   1|           0|                       1|                 0|                    0|                            0|                            0|                               1|                     0|\n",
      "| 463|         0|              7|             99.8|    1|      0|          0|           1|                       1|              0|           1|                0|             0|      1|              1|           1|           0|                   1|           0|                       1|                 0|                    0|                            0|                            0|                               1|                     0|\n",
      "|4900|         1|             37|             85.7|    1|      1|          0|           1|                       1|              0|           0|                0|             0|      1|              0|           1|           0|                   1|           0|                       1|                 0|                    0|                            0|                            0|                               1|                     0|\n",
      "|4818|         1|             64|             80.3|    0|      1|          0|           1|                       0|              1|           0|                1|             0|      0|              0|           0|           0|                   1|           0|                       0|                 1|                    0|                            0|                            1|                               0|                     0|\n",
      "|7554|         0|              1|50.74303124820026|    1|      0|          0|           1|                       0|              0|           1|                0|             0|      0|              0|           0|           1|                   0|           0|                       1|                 0|                    0|                            0|                            0|                               1|                     0|\n",
      "|1342|         0|              8|             20.0|    0|      0|          0|           1|                       0|              0|           0|                0|             0|      0|              0|           0|           0|                   0|           1|                       0|                 0|                    1|                            0|                            0|                               0|                     1|\n",
      "|5300|         0|              1|            80.05|    1|      1|          1|           1|                       0|              0|           0|                0|             0|      1|              0|           1|           0|                   1|           0|                       1|                 0|                    0|                            0|                            0|                               0|                     1|\n",
      "+----+----------+---------------+-----------------+-----+-------+-----------+------------+------------------------+---------------+------------+-----------------+--------------+-------+---------------+------------+------------+--------------------+------------+------------------------+------------------+---------------------+-----------------------------+-----------------------------+--------------------------------+----------------------+\n",
      "only showing top 20 rows\n",
      "\n"
     ]
    }
   ],
   "source": [
    "dataset \\\n",
    "    .join(internet, \"id\", how=\"inner\") \\\n",
    "    .join(tipo_contrato, \"id\", how=\"inner\") \\\n",
    "    .join(metodo_pagamento, \"id\", how=\"inner\") \\\n",
    "    .select(\n",
    "        \"*\",\n",
    "        f.col(\"DSL\").alias(\"Internet_DSL\"),\n",
    "        f.col(\"FibraOptica\").alias(\"Internet_FibraOptica\"),\n",
    "        f.col(\"Nao\").alias(\"Internet_Nao\"),\n",
    "        f.col(\"Mensalmente\").alias(\"TipoContrato_Mensalmente\"),\n",
    "        f.col(\"UmAno\").alias(\"TipoContrato_UmAno\"),\n",
    "        f.col(\"DoisAnos\").alias(\"TipoContrato_DoisAnos\"),\n",
    "        f.col(\"DebitoEmConta\").alias(\"MetodoPagamento_DebitoEmConta\"),\n",
    "        f.col(\"CartaoCredito\").alias(\"MetodoPagamento_CartaoCredito\"),\n",
    "        f.col(\"BoletoEletronico\").alias(\"MetodoPagamento_BoletoEletronico\"),\n",
    "        f.col(\"Boleto\").alias(\"MetodoPagamento_Boleto\")\n",
    "    ) \\\n",
    "    .drop(\n",
    "        \"Internet\", \"TipoContrato\", \"MetodoPagamento\", \"DSL\",\n",
    "        \"FibraOptica\", \"Nao\", \"Mensalmente\", \"UmAno\", \"DoisAnos\",\n",
    "        \"DebitoEmConta\", \"CartaoCredito\", \"BoletoEletronico\", \"Boleto\"\n",
    "    ) \\\n",
    "    .show()"
   ]
  },
  {
   "cell_type": "code",
   "execution_count": 12,
   "id": "2a97555c-05fb-48e9-9092-73c8d434bc17",
   "metadata": {},
   "outputs": [],
   "source": [
    "dataset = dataset \\\n",
    "    .join(internet, \"id\", how=\"inner\") \\\n",
    "    .join(tipo_contrato, \"id\", how=\"inner\") \\\n",
    "    .join(metodo_pagamento, \"id\", how=\"inner\") \\\n",
    "    .select(\n",
    "        \"*\",\n",
    "        f.col(\"DSL\").alias(\"Internet_DSL\"),\n",
    "        f.col(\"FibraOptica\").alias(\"Internet_FibraOptica\"),\n",
    "        f.col(\"Nao\").alias(\"Internet_Nao\"),\n",
    "        f.col(\"Mensalmente\").alias(\"TipoContrato_Mensalmente\"),\n",
    "        f.col(\"UmAno\").alias(\"TipoContrato_UmAno\"),\n",
    "        f.col(\"DoisAnos\").alias(\"TipoContrato_DoisAnos\"),\n",
    "        f.col(\"DebitoEmConta\").alias(\"MetodoPagamento_DebitoEmConta\"),\n",
    "        f.col(\"CartaoCredito\").alias(\"MetodoPagamento_CartaoCredito\"),\n",
    "        f.col(\"BoletoEletronico\").alias(\"MetodoPagamento_BoletoEletronico\"),\n",
    "        f.col(\"Boleto\").alias(\"MetodoPagamento_Boleto\")\n",
    "    ) \\\n",
    "    .drop(\n",
    "        \"Internet\", \"TipoContrato\", \"MetodoPagamento\", \"DSL\",\n",
    "        \"FibraOptica\", \"Nao\", \"Mensalmente\", \"UmAno\", \"DoisAnos\",\n",
    "        \"DebitoEmConta\", \"CartaoCredito\", \"BoletoEletronico\", \"Boleto\"\n",
    "    )"
   ]
  },
  {
   "cell_type": "code",
   "execution_count": 20,
   "id": "371f64f3-1dfc-42e7-a1f5-cd1527ad42dd",
   "metadata": {},
   "outputs": [
    {
     "name": "stdout",
     "output_type": "stream",
     "text": [
      "+----+----------+---------------+-----------------+-----+-------+-----------+------------+------------------------+---------------+------------+-----------------+--------------+-------+---------------+------------+------------+--------------------+------------+------------------------+------------------+---------------------+-----------------------------+-----------------------------+--------------------------------+----------------------+\n",
      "|  id|Mais65anos|MesesDeContrato|    MesesCobrados|Churn|Conjuge|Dependentes|TelefoneFixo|MaisDeUmaLinhaTelefonica|SegurancaOnline|BackupOnline|SeguroDispositivo|SuporteTecnico|TVaCabo|StreamingFilmes|ContaCorreio|Internet_DSL|Internet_FibraOptica|Internet_Nao|TipoContrato_Mensalmente|TipoContrato_UmAno|TipoContrato_DoisAnos|MetodoPagamento_DebitoEmConta|MetodoPagamento_CartaoCredito|MetodoPagamento_BoletoEletronico|MetodoPagamento_Boleto|\n",
      "+----+----------+---------------+-----------------+-----+-------+-----------+------------+------------------------+---------------+------------+-----------------+--------------+-------+---------------+------------+------------+--------------------+------------+------------------------+------------------+---------------------+-----------------------------+-----------------------------+--------------------------------+----------------------+\n",
      "|7982|         0|              1|45.30540797610398|    1|      0|          0|           0|                       0|              0|           0|                0|             0|      1|              1|           1|           1|                   0|           0|                       1|                 0|                    0|                            0|                            0|                               1|                     0|\n",
      "|9465|         0|             60|103.6142230120257|    1|      1|          0|           1|                       1|              0|           1|                1|             0|      1|              1|           1|           0|                   1|           0|                       1|                 0|                    0|                            0|                            0|                               1|                     0|\n",
      "|2122|         0|             12|            75.85|    0|      0|          0|           1|                       1|              0|           0|                0|             1|      1|              1|           1|           1|                   0|           0|                       0|                 1|                    0|                            0|                            0|                               0|                     1|\n",
      "|3997|         0|             69|            61.45|    0|      1|          0|           1|                       0|              0|           1|                0|             0|      0|              1|           1|           1|                   0|           0|                       0|                 0|                    1|                            0|                            1|                               0|                     0|\n",
      "|6654|         0|              7|             86.5|    1|      1|          0|           1|                       1|              0|           0|                0|             0|      1|              0|           1|           0|                   1|           0|                       1|                 0|                    0|                            0|                            0|                               1|                     0|\n",
      "|7880|         0|             14|85.03742670311915|    1|      0|          0|           1|                       1|              0|           0|                0|             0|      0|              1|           1|           0|                   1|           0|                       1|                 0|                    0|                            0|                            0|                               1|                     0|\n",
      "|4519|         0|             57|            109.4|    0|      1|          0|           1|                       1|              0|           1|                1|             1|      1|              1|           1|           0|                   1|           0|                       0|                 1|                    0|                            1|                            0|                               0|                     0|\n",
      "|6466|         0|             18|            74.15|    0|      0|          0|           1|                       1|              0|           0|                0|             0|      0|              0|           0|           0|                   1|           0|                       1|                 0|                    0|                            0|                            0|                               0|                     1|\n",
      "| 496|         0|             28|             60.9|    0|      1|          0|           1|                       0|              1|           1|                0|             1|      0|              0|           0|           1|                   0|           0|                       1|                 0|                    0|                            0|                            0|                               0|                     1|\n",
      "|7833|         0|             46| 80.8824189403559|    1|      1|          0|           1|                       0|              0|           0|                0|             0|      0|              1|           1|           0|                   1|           0|                       1|                 0|                    0|                            0|                            0|                               1|                     0|\n",
      "|1591|         0|             17|             21.1|    0|      0|          0|           1|                       0|              0|           0|                0|             0|      0|              0|           0|           0|                   0|           1|                       1|                 0|                    0|                            0|                            1|                               0|                     0|\n",
      "|2866|         0|             12|             84.6|    0|      0|          0|           1|                       0|              0|           1|                0|             0|      0|              1|           1|           0|                   1|           0|                       1|                 0|                    0|                            0|                            0|                               1|                     0|\n",
      "|8592|         0|              5|82.71735660557214|    1|      1|          0|           1|                       1|              0|           0|                0|             0|      1|              0|           1|           0|                   1|           0|                       1|                 0|                    0|                            0|                            0|                               1|                     0|\n",
      "|1829|         0|              8|            74.85|    0|      0|          0|           1|                       1|              0|           0|                0|             0|      0|              0|           1|           0|                   1|           0|                       1|                 0|                    0|                            0|                            0|                               1|                     0|\n",
      "| 463|         0|              7|             99.8|    1|      0|          0|           1|                       1|              0|           1|                0|             0|      1|              1|           1|           0|                   1|           0|                       1|                 0|                    0|                            0|                            0|                               1|                     0|\n",
      "|4900|         1|             37|             85.7|    1|      1|          0|           1|                       1|              0|           0|                0|             0|      1|              0|           1|           0|                   1|           0|                       1|                 0|                    0|                            0|                            0|                               1|                     0|\n",
      "|4818|         1|             64|             80.3|    0|      1|          0|           1|                       0|              1|           0|                1|             0|      0|              0|           0|           0|                   1|           0|                       0|                 1|                    0|                            0|                            1|                               0|                     0|\n",
      "|7554|         0|              1|50.74303124820026|    1|      0|          0|           1|                       0|              0|           1|                0|             0|      0|              0|           0|           1|                   0|           0|                       1|                 0|                    0|                            0|                            0|                               1|                     0|\n",
      "|1342|         0|              8|             20.0|    0|      0|          0|           1|                       0|              0|           0|                0|             0|      0|              0|           0|           0|                   0|           1|                       0|                 0|                    1|                            0|                            0|                               0|                     1|\n",
      "|5300|         0|              1|            80.05|    1|      1|          1|           1|                       0|              0|           0|                0|             0|      1|              0|           1|           0|                   1|           0|                       1|                 0|                    0|                            0|                            0|                               0|                     1|\n",
      "+----+----------+---------------+-----------------+-----+-------+-----------+------------+------------------------+---------------+------------+-----------------+--------------+-------+---------------+------------+------------+--------------------+------------+------------------------+------------------+---------------------+-----------------------------+-----------------------------+--------------------------------+----------------------+\n",
      "only showing top 20 rows\n",
      "\n"
     ]
    }
   ],
   "source": [
    "dataset.show()"
   ]
  },
  {
   "cell_type": "code",
   "execution_count": 21,
   "id": "91ace926-e067-4e25-85e1-20255e693f4a",
   "metadata": {},
   "outputs": [
    {
     "name": "stdout",
     "output_type": "stream",
     "text": [
      "root\n",
      " |-- id: integer (nullable = true)\n",
      " |-- Mais65anos: integer (nullable = true)\n",
      " |-- MesesDeContrato: integer (nullable = true)\n",
      " |-- MesesCobrados: double (nullable = true)\n",
      " |-- Churn: integer (nullable = false)\n",
      " |-- Conjuge: integer (nullable = false)\n",
      " |-- Dependentes: integer (nullable = false)\n",
      " |-- TelefoneFixo: integer (nullable = false)\n",
      " |-- MaisDeUmaLinhaTelefonica: integer (nullable = false)\n",
      " |-- SegurancaOnline: integer (nullable = false)\n",
      " |-- BackupOnline: integer (nullable = false)\n",
      " |-- SeguroDispositivo: integer (nullable = false)\n",
      " |-- SuporteTecnico: integer (nullable = false)\n",
      " |-- TVaCabo: integer (nullable = false)\n",
      " |-- StreamingFilmes: integer (nullable = false)\n",
      " |-- ContaCorreio: integer (nullable = false)\n",
      " |-- Internet_DSL: integer (nullable = true)\n",
      " |-- Internet_FibraOptica: integer (nullable = true)\n",
      " |-- Internet_Nao: integer (nullable = true)\n",
      " |-- TipoContrato_Mensalmente: integer (nullable = true)\n",
      " |-- TipoContrato_UmAno: integer (nullable = true)\n",
      " |-- TipoContrato_DoisAnos: integer (nullable = true)\n",
      " |-- MetodoPagamento_DebitoEmConta: integer (nullable = true)\n",
      " |-- MetodoPagamento_CartaoCredito: integer (nullable = true)\n",
      " |-- MetodoPagamento_BoletoEletronico: integer (nullable = true)\n",
      " |-- MetodoPagamento_Boleto: integer (nullable = true)\n",
      "\n"
     ]
    }
   ],
   "source": [
    "dataset.printSchema()"
   ]
  },
  {
   "cell_type": "markdown",
   "id": "f7a1a355-7542-4068-9490-17395851972d",
   "metadata": {},
   "source": [
    "### Para saber mais: dados categóricos"
   ]
  },
  {
   "cell_type": "markdown",
   "id": "516f8079-12cd-419c-80a1-e3015a55e3cb",
   "metadata": {},
   "source": [
    "Entender os tipos de dados que temos é uma tarefa muito importante, porque, através da identificação do dado, poderemos determinar quais são os melhores tratamentos de dados para serem utilizados em modelos de machine learning. Vamos analisar como diferenciar os dados categóricos binários e os não binários.\n",
    "\n",
    "**Categóricos binários** são dados que só tem duas variações de valores, daí o nome binário, que é um sistema numérico de apenas dois números, o *um* e o *zero*. Mas os dados categóricos binários podem ser representados por outros valores que não o um e o zero. Por exemplo: em questionários, esses valores são registrados como *Sim* e *Não* ou *Verdadeiro* e *Falso*. Depois que conseguimos identificar que nosso dado é desse tipo, precisamos apenas transformar eles para os valores 0 e 1.\n",
    "\n",
    "**Categóricos não binários**, também chamados de variáveis politômicas, são os que têm mais de dois valores possíveis. Nesses tipos de dados ainda temos mais uma ramificação categórica: **ordinais** e **nominais**.\n",
    "\n",
    "- Os ordinais são quando os dados possuem uma ordem entre eles. Por exemplo, o grau de instrução de uma pessoa tem uma ordem: primeiro o ensino fundamental, depois o ensino médio e, finalmente o ensino superior.\n",
    "\n",
    "- Os nominais são quando os valores não têm uma ordem, como: estado civil (solteiro, casado, separado, divorciado ou viúvo).\n",
    "\n",
    "A identificação deste tipo é muito importante para determinarmos como vamos fazer a transformação desses dados para números. Para dados categóricos nominais, atribuir valores para as categorias não estaria correto, já que, dessa maneira, estaríamos aplicando uma ordem e um valor para as categorias que originalmente não tem.\n",
    "\n",
    "No exemplo do estado civil, se atribuirmos os valores de 1, 2, 3, 4 e 5 para solteiro, casado, separado, divorciado e viúvo, respectivamente, podemos afetar o entendimento do modelo, pois podemos dizer que o viúvo é maior que solteiro, já que 5 é maior que 1, e essa não é uma informação correta. Por isso, quando identificamos esse tipo de dado, o procedimento mais usado será criar dummies para essa coluna, em que cada valor de categoria terá sua própria coluna de valores binários.\n",
    "\n",
    "Percebeu como a análise e a identificação dos nossos dados é importante? Sendo assim, é bom evitar aplicar soluções automáticas para os tratamentos porque os resultados podem ser prejudicados."
   ]
  },
  {
   "cell_type": "markdown",
   "id": "be7f1570-7ae3-4e04-bb27-b401e1b8c018",
   "metadata": {},
   "source": [
    "### Para saber mais: Pandas ou Spark"
   ]
  },
  {
   "cell_type": "markdown",
   "id": "bac8ca9a-1927-4f61-a05d-d553184c6bf7",
   "metadata": {},
   "source": [
    "Conhecemos duas ferramentas para trabalhar com dados em Python, o **Pandas** e o **Spark**. Mas como sabemos quando usar um ou o outro? Bom, no exemplo do nosso curso assumimos que o projeto terá uma grande base de dados e o Pandas, que carrega os dados em memória, provavelmente travaria ou funcionaria de forma bem lenta.\n",
    "\n",
    "Para bases menores o Pandas poderia superar o Spark e entregar resultados bem mais rápidos. Mas, para entender melhor o porque disso acontecer, recomendo o Alura+ sobre o [Spark: RDD](https://cursos.alura.com.br/extra/alura-mais/spark-rdd-c1326), uma das representações de dados usada pelo Spark. Nesse conteúdo, você aprenderá sobre os RDDs e vai entender melhor sobre o funcionamento por trás do Pandas e do Spark.\n",
    "\n",
    "Sabemos que questionamentos como, “*Pandas ou Spark: qual é o melhor?*”, nunca tem uma resposta simples, teremos sempre um “*depende*”. Então cabe a nós, cientistas de dados, conhecer ferramentas e soluções para conseguir entender quando elas terão o melhor resultado."
   ]
  },
  {
   "cell_type": "markdown",
   "id": "a81100b2-f06d-47f8-a1cb-e527e91c598a",
   "metadata": {},
   "source": [
    "## 02. Criando o primeiro modelo\n",
    "---"
   ]
  },
  {
   "cell_type": "markdown",
   "id": "a78f599b-3b2f-45f6-871c-7c73c3776b52",
   "metadata": {},
   "source": [
    "### Para saber mais: como funciona a Regressão Logística"
   ]
  },
  {
   "cell_type": "markdown",
   "id": "e66c300f-63c6-4d21-9d83-80a08b43feb6",
   "metadata": {},
   "source": [
    "O algoritmo de regressão logística faz parte dos algoritmos de aprendizado de máquina supervisionado e é utilizado para problemas nos quais a variável resposta é categórica, podendo ser do tipo **binomial** (apenas dois níveis) ou **multinomial** (três ou mais níveis).\n",
    "\n",
    "Em nosso curso, vamos trabalhar com a variável categórica do tipo binomial. O intuito desse algoritmo é modelar a probabilidade de uma determinada classe. Para uma variável alvo com as classes 0 e 1, por exemplo, caso a probabilidade de um registro seja maior que um determinado ponto de corte, o modelo classifica esse registro como 1. Caso seja menor, o modelo classifica como 0.\n",
    "\n",
    "Na imagem abaixo, podemos conferir como que a regressão logística se comporta:\n",
    "\n",
    "![Regressão Logística](https://cdn3.gnarususercontent.com.br/2276-spark/02/Aula2-img1.jpg)\n",
    "\n",
    "Na figura acima, os pontos em que y é igual a 1 representam os verdadeiros valores da classe 1. Os pontos em que y é igual a 0 representam os verdadeiros valores da classe 0. A curva em forma de S representa o modelo de regressão logística, que corresponde ao valor de probabilidade de cada um dos pontos.\n",
    "\n",
    "O ponto de corte, definido como 0.5, faz com que os pontos representados em vermelho sejam classificados como da classe 0, uma vez que possuem valor de probabilidade segundo o modelo menor que 0.5. Já os pontos representados em azul são classificados como da classe 1, dado que a curva para esses pontos tem valor de probabilidade acima de 0.5."
   ]
  },
  {
   "cell_type": "markdown",
   "id": "190d793a-d247-4869-926c-2d2b5734c44c",
   "metadata": {},
   "source": [
    "### Preparação dos dados"
   ]
  },
  {
   "cell_type": "code",
   "execution_count": 22,
   "id": "1bd74150-436f-4462-a1e4-ff761c031881",
   "metadata": {},
   "outputs": [
    {
     "name": "stdout",
     "output_type": "stream",
     "text": [
      "+----+----------+---------------+-----------------+-----+-------+-----------+------------+------------------------+---------------+------------+-----------------+--------------+-------+---------------+------------+------------+--------------------+------------+------------------------+------------------+---------------------+-----------------------------+-----------------------------+--------------------------------+----------------------+\n",
      "|  id|Mais65anos|MesesDeContrato|    MesesCobrados|Churn|Conjuge|Dependentes|TelefoneFixo|MaisDeUmaLinhaTelefonica|SegurancaOnline|BackupOnline|SeguroDispositivo|SuporteTecnico|TVaCabo|StreamingFilmes|ContaCorreio|Internet_DSL|Internet_FibraOptica|Internet_Nao|TipoContrato_Mensalmente|TipoContrato_UmAno|TipoContrato_DoisAnos|MetodoPagamento_DebitoEmConta|MetodoPagamento_CartaoCredito|MetodoPagamento_BoletoEletronico|MetodoPagamento_Boleto|\n",
      "+----+----------+---------------+-----------------+-----+-------+-----------+------------+------------------------+---------------+------------+-----------------+--------------+-------+---------------+------------+------------+--------------------+------------+------------------------+------------------+---------------------+-----------------------------+-----------------------------+--------------------------------+----------------------+\n",
      "|7982|         0|              1|45.30540797610398|    1|      0|          0|           0|                       0|              0|           0|                0|             0|      1|              1|           1|           1|                   0|           0|                       1|                 0|                    0|                            0|                            0|                               1|                     0|\n",
      "|9465|         0|             60|103.6142230120257|    1|      1|          0|           1|                       1|              0|           1|                1|             0|      1|              1|           1|           0|                   1|           0|                       1|                 0|                    0|                            0|                            0|                               1|                     0|\n",
      "|2122|         0|             12|            75.85|    0|      0|          0|           1|                       1|              0|           0|                0|             1|      1|              1|           1|           1|                   0|           0|                       0|                 1|                    0|                            0|                            0|                               0|                     1|\n",
      "|3997|         0|             69|            61.45|    0|      1|          0|           1|                       0|              0|           1|                0|             0|      0|              1|           1|           1|                   0|           0|                       0|                 0|                    1|                            0|                            1|                               0|                     0|\n",
      "|6654|         0|              7|             86.5|    1|      1|          0|           1|                       1|              0|           0|                0|             0|      1|              0|           1|           0|                   1|           0|                       1|                 0|                    0|                            0|                            0|                               1|                     0|\n",
      "|7880|         0|             14|85.03742670311915|    1|      0|          0|           1|                       1|              0|           0|                0|             0|      0|              1|           1|           0|                   1|           0|                       1|                 0|                    0|                            0|                            0|                               1|                     0|\n",
      "|4519|         0|             57|            109.4|    0|      1|          0|           1|                       1|              0|           1|                1|             1|      1|              1|           1|           0|                   1|           0|                       0|                 1|                    0|                            1|                            0|                               0|                     0|\n",
      "|6466|         0|             18|            74.15|    0|      0|          0|           1|                       1|              0|           0|                0|             0|      0|              0|           0|           0|                   1|           0|                       1|                 0|                    0|                            0|                            0|                               0|                     1|\n",
      "| 496|         0|             28|             60.9|    0|      1|          0|           1|                       0|              1|           1|                0|             1|      0|              0|           0|           1|                   0|           0|                       1|                 0|                    0|                            0|                            0|                               0|                     1|\n",
      "|7833|         0|             46| 80.8824189403559|    1|      1|          0|           1|                       0|              0|           0|                0|             0|      0|              1|           1|           0|                   1|           0|                       1|                 0|                    0|                            0|                            0|                               1|                     0|\n",
      "|1591|         0|             17|             21.1|    0|      0|          0|           1|                       0|              0|           0|                0|             0|      0|              0|           0|           0|                   0|           1|                       1|                 0|                    0|                            0|                            1|                               0|                     0|\n",
      "|2866|         0|             12|             84.6|    0|      0|          0|           1|                       0|              0|           1|                0|             0|      0|              1|           1|           0|                   1|           0|                       1|                 0|                    0|                            0|                            0|                               1|                     0|\n",
      "|8592|         0|              5|82.71735660557214|    1|      1|          0|           1|                       1|              0|           0|                0|             0|      1|              0|           1|           0|                   1|           0|                       1|                 0|                    0|                            0|                            0|                               1|                     0|\n",
      "|1829|         0|              8|            74.85|    0|      0|          0|           1|                       1|              0|           0|                0|             0|      0|              0|           1|           0|                   1|           0|                       1|                 0|                    0|                            0|                            0|                               1|                     0|\n",
      "| 463|         0|              7|             99.8|    1|      0|          0|           1|                       1|              0|           1|                0|             0|      1|              1|           1|           0|                   1|           0|                       1|                 0|                    0|                            0|                            0|                               1|                     0|\n",
      "|4900|         1|             37|             85.7|    1|      1|          0|           1|                       1|              0|           0|                0|             0|      1|              0|           1|           0|                   1|           0|                       1|                 0|                    0|                            0|                            0|                               1|                     0|\n",
      "|4818|         1|             64|             80.3|    0|      1|          0|           1|                       0|              1|           0|                1|             0|      0|              0|           0|           0|                   1|           0|                       0|                 1|                    0|                            0|                            1|                               0|                     0|\n",
      "|7554|         0|              1|50.74303124820026|    1|      0|          0|           1|                       0|              0|           1|                0|             0|      0|              0|           0|           1|                   0|           0|                       1|                 0|                    0|                            0|                            0|                               1|                     0|\n",
      "|1342|         0|              8|             20.0|    0|      0|          0|           1|                       0|              0|           0|                0|             0|      0|              0|           0|           0|                   0|           1|                       0|                 0|                    1|                            0|                            0|                               0|                     1|\n",
      "|5300|         0|              1|            80.05|    1|      1|          1|           1|                       0|              0|           0|                0|             0|      1|              0|           1|           0|                   1|           0|                       1|                 0|                    0|                            0|                            0|                               0|                     1|\n",
      "+----+----------+---------------+-----------------+-----+-------+-----------+------------+------------------------+---------------+------------+-----------------+--------------+-------+---------------+------------+------------+--------------------+------------+------------------------+------------------+---------------------+-----------------------------+-----------------------------+--------------------------------+----------------------+\n",
      "only showing top 20 rows\n",
      "\n"
     ]
    }
   ],
   "source": [
    "dataset.show()"
   ]
  },
  {
   "cell_type": "code",
   "execution_count": 13,
   "id": "ecff680f-9d46-49b9-a384-54cf63c15e37",
   "metadata": {},
   "outputs": [],
   "source": [
    "from pyspark.ml.feature import VectorAssembler"
   ]
  },
  {
   "cell_type": "code",
   "execution_count": 14,
   "id": "e888c2f3-725c-4fde-84b3-96aa2490de39",
   "metadata": {},
   "outputs": [],
   "source": [
    "dataset = dataset.withColumnRenamed(\"Churn\", \"label\")"
   ]
  },
  {
   "cell_type": "code",
   "execution_count": 15,
   "id": "625d61cd-4a73-4593-a094-2e5acf546e71",
   "metadata": {},
   "outputs": [
    {
     "data": {
      "text/plain": [
       "['Mais65anos',\n",
       " 'MesesDeContrato',\n",
       " 'MesesCobrados',\n",
       " 'Conjuge',\n",
       " 'Dependentes',\n",
       " 'TelefoneFixo',\n",
       " 'MaisDeUmaLinhaTelefonica',\n",
       " 'SegurancaOnline',\n",
       " 'BackupOnline',\n",
       " 'SeguroDispositivo',\n",
       " 'SuporteTecnico',\n",
       " 'TVaCabo',\n",
       " 'StreamingFilmes',\n",
       " 'ContaCorreio',\n",
       " 'Internet_DSL',\n",
       " 'Internet_FibraOptica',\n",
       " 'Internet_Nao',\n",
       " 'TipoContrato_Mensalmente',\n",
       " 'TipoContrato_UmAno',\n",
       " 'TipoContrato_DoisAnos',\n",
       " 'MetodoPagamento_DebitoEmConta',\n",
       " 'MetodoPagamento_CartaoCredito',\n",
       " 'MetodoPagamento_BoletoEletronico',\n",
       " 'MetodoPagamento_Boleto']"
      ]
     },
     "execution_count": 15,
     "metadata": {},
     "output_type": "execute_result"
    }
   ],
   "source": [
    "X = dataset.columns\n",
    "X.remove(\"label\")\n",
    "X.remove(\"id\")\n",
    "X"
   ]
  },
  {
   "cell_type": "code",
   "execution_count": 16,
   "id": "9317849c-f7f8-41b1-99ac-3e330fde536d",
   "metadata": {},
   "outputs": [],
   "source": [
    "assembler = VectorAssembler(inputCols=X, outputCol=\"features\")"
   ]
  },
  {
   "cell_type": "code",
   "execution_count": 17,
   "id": "fc7867f1-1922-4e95-bd62-a3dd76626dd6",
   "metadata": {},
   "outputs": [],
   "source": [
    "dataset_prep = assembler.transform(dataset).select(\"features\", \"label\")"
   ]
  },
  {
   "cell_type": "code",
   "execution_count": 18,
   "id": "09ba4c70-2af5-4156-86bd-e255c2e60a65",
   "metadata": {},
   "outputs": [
    {
     "name": "stdout",
     "output_type": "stream",
     "text": [
      "+-----------------------------------------------------------------------------------------------------------+-----+\n",
      "|features                                                                                                   |label|\n",
      "+-----------------------------------------------------------------------------------------------------------+-----+\n",
      "|(24,[1,2,11,12,13,14,17,22],[1.0,45.30540797610398,1.0,1.0,1.0,1.0,1.0,1.0])                               |1    |\n",
      "|(24,[1,2,3,5,6,8,9,11,12,13,15,17,22],[60.0,103.6142230120257,1.0,1.0,1.0,1.0,1.0,1.0,1.0,1.0,1.0,1.0,1.0])|1    |\n",
      "|(24,[1,2,5,6,10,11,12,13,14,18,23],[12.0,75.85,1.0,1.0,1.0,1.0,1.0,1.0,1.0,1.0,1.0])                       |0    |\n",
      "|(24,[1,2,3,5,8,12,13,14,19,21],[69.0,61.45,1.0,1.0,1.0,1.0,1.0,1.0,1.0,1.0])                               |0    |\n",
      "|(24,[1,2,3,5,6,11,13,15,17,22],[7.0,86.5,1.0,1.0,1.0,1.0,1.0,1.0,1.0,1.0])                                 |1    |\n",
      "|(24,[1,2,5,6,12,13,15,17,22],[14.0,85.03742670311915,1.0,1.0,1.0,1.0,1.0,1.0,1.0])                         |1    |\n",
      "|(24,[1,2,3,5,6,8,9,10,11,12,13,15,18,20],[57.0,109.4,1.0,1.0,1.0,1.0,1.0,1.0,1.0,1.0,1.0,1.0,1.0,1.0])     |0    |\n",
      "|(24,[1,2,5,6,15,17,23],[18.0,74.15,1.0,1.0,1.0,1.0,1.0])                                                   |0    |\n",
      "|(24,[1,2,3,5,7,8,10,14,17,23],[28.0,60.9,1.0,1.0,1.0,1.0,1.0,1.0,1.0,1.0])                                 |0    |\n",
      "|(24,[1,2,3,5,12,13,15,17,22],[46.0,80.8824189403559,1.0,1.0,1.0,1.0,1.0,1.0,1.0])                          |1    |\n",
      "+-----------------------------------------------------------------------------------------------------------+-----+\n",
      "only showing top 10 rows\n",
      "\n"
     ]
    }
   ],
   "source": [
    "dataset_prep.show(10, truncate=False)"
   ]
  },
  {
   "cell_type": "markdown",
   "id": "fbe6e0a3-966d-4d58-8917-0559ecbc8f17",
   "metadata": {},
   "source": [
    "### Ajuste e previsão"
   ]
  },
  {
   "cell_type": "code",
   "execution_count": 19,
   "id": "82673daa-6d1b-4bbf-9737-e8da652b53de",
   "metadata": {},
   "outputs": [],
   "source": [
    "SEED = 101"
   ]
  },
  {
   "cell_type": "code",
   "execution_count": 20,
   "id": "9d99c1e1-9481-4068-bcfa-ef6920a87600",
   "metadata": {},
   "outputs": [],
   "source": [
    "treino, teste = dataset_prep.randomSplit([0.7, 0.3], seed=SEED)"
   ]
  },
  {
   "cell_type": "code",
   "execution_count": 21,
   "id": "ceb82199-d16b-44a5-9d2b-be128c217dc5",
   "metadata": {},
   "outputs": [
    {
     "data": {
      "text/plain": [
       "7206"
      ]
     },
     "execution_count": 21,
     "metadata": {},
     "output_type": "execute_result"
    }
   ],
   "source": [
    "treino.count()"
   ]
  },
  {
   "cell_type": "code",
   "execution_count": 22,
   "id": "60e0b6e9-48a4-4d37-865d-f686cdd939fe",
   "metadata": {},
   "outputs": [
    {
     "data": {
      "text/plain": [
       "3142"
      ]
     },
     "execution_count": 22,
     "metadata": {},
     "output_type": "execute_result"
    }
   ],
   "source": [
    "teste.count()"
   ]
  },
  {
   "cell_type": "code",
   "execution_count": 23,
   "id": "9a76fb9a-b043-4fed-b1bb-65db49b1e2ac",
   "metadata": {},
   "outputs": [],
   "source": [
    "from pyspark.ml.classification import LogisticRegression"
   ]
  },
  {
   "cell_type": "code",
   "execution_count": 24,
   "id": "d78cb6e7-d488-47a2-8639-9484f73dbed7",
   "metadata": {},
   "outputs": [],
   "source": [
    "lr = LogisticRegression()"
   ]
  },
  {
   "cell_type": "code",
   "execution_count": 25,
   "id": "f7caabb2-349b-4759-8725-27208939787e",
   "metadata": {},
   "outputs": [
    {
     "name": "stderr",
     "output_type": "stream",
     "text": [
      "25/09/03 14:24:07 WARN InstanceBuilder: Failed to load implementation from:dev.ludovic.netlib.blas.VectorBLAS\n"
     ]
    }
   ],
   "source": [
    "modelo_lr = lr.fit(treino)"
   ]
  },
  {
   "cell_type": "code",
   "execution_count": 26,
   "id": "996ed688-d1de-4dd0-b789-c73c86f3eb4c",
   "metadata": {},
   "outputs": [],
   "source": [
    "previsoes_lr_teste = modelo_lr.transform(teste)"
   ]
  },
  {
   "cell_type": "code",
   "execution_count": 37,
   "id": "79a46337-240c-4837-bcc8-4e281f28402d",
   "metadata": {},
   "outputs": [
    {
     "name": "stdout",
     "output_type": "stream",
     "text": [
      "+--------------------+-----+--------------------+--------------------+----------+\n",
      "|            features|label|       rawPrediction|         probability|prediction|\n",
      "+--------------------+-----+--------------------+--------------------+----------+\n",
      "|(24,[0,1,2,3,4,5,...|    0|[3.02174179751551...|[0.95354674000282...|       0.0|\n",
      "|(24,[0,1,2,3,4,5,...|    0|[-0.0922192966076...|[0.47696150091605...|       1.0|\n",
      "|(24,[0,1,2,3,4,5,...|    1|[0.18744121711361...|[0.54672358463156...|       0.0|\n",
      "|(24,[0,1,2,3,4,5,...|    1|[0.91716501260103...|[0.71446410549163...|       0.0|\n",
      "|(24,[0,1,2,3,4,5,...|    0|[-0.1495904711610...|[0.46267196467801...|       1.0|\n",
      "|(24,[0,1,2,3,4,5,...|    0|[-0.1680594619286...|[0.45808374494006...|       1.0|\n",
      "|(24,[0,1,2,3,4,5,...|    0|[-1.4170949608173...|[0.19511740608882...|       1.0|\n",
      "|(24,[0,1,2,3,4,5,...|    0|[0.14194260698794...|[0.53542619200881...|       0.0|\n",
      "|(24,[0,1,2,3,4,5,...|    0|[0.67046644011599...|[0.66160759507905...|       0.0|\n",
      "|(24,[0,1,2,3,4,5,...|    0|[1.46841036244999...|[0.81281564870727...|       0.0|\n",
      "|(24,[0,1,2,3,4,5,...|    1|[-0.2187083605333...|[0.44553982138394...|       1.0|\n",
      "|(24,[0,1,2,3,4,5,...|    1|[-1.0342537570067...|[0.26226025614667...|       1.0|\n",
      "|(24,[0,1,2,3,4,5,...|    0|[5.50017227754075...|[0.99593056056380...|       0.0|\n",
      "|(24,[0,1,2,3,4,8,...|    0|[0.78512618330368...|[0.68678387079939...|       0.0|\n",
      "|(24,[0,1,2,3,4,8,...|    0|[0.84647423373263...|[0.69982700991647...|       0.0|\n",
      "|(24,[0,1,2,3,4,8,...|    0|[2.71891428132878...|[0.93813354968549...|       0.0|\n",
      "|(24,[0,1,2,3,5,6,...|    0|[4.47635640497720...|[0.98875314765919...|       0.0|\n",
      "|(24,[0,1,2,3,5,6,...|    0|[1.61650336401316...|[0.83431233628064...|       0.0|\n",
      "|(24,[0,1,2,3,5,6,...|    0|[3.44539231448552...|[0.96909343212403...|       0.0|\n",
      "|(24,[0,1,2,3,5,6,...|    0|[3.42849251731228...|[0.96858322780664...|       0.0|\n",
      "+--------------------+-----+--------------------+--------------------+----------+\n",
      "only showing top 20 rows\n",
      "\n"
     ]
    }
   ],
   "source": [
    "previsoes_lr_teste.show()"
   ]
  },
  {
   "cell_type": "markdown",
   "id": "b56c96b8-96a5-4e39-9995-fe1a9af13cd8",
   "metadata": {},
   "source": [
    "### Para saber mais: colunas rawPrediction e probability"
   ]
  },
  {
   "cell_type": "markdown",
   "id": "cd1dc01a-0d99-44ed-a094-8cf9cd498d0e",
   "metadata": {},
   "source": [
    "Ao realizar os testes de predição do modelo com `modelo_lr.transform(treino)`, é retornada uma tabela. Ao utilizar o método `show()`, podemos ver sua estrutura:\n",
    "\n",
    "<table>\n",
    "    <thead>\n",
    "        <tr>\n",
    "            <th>features</th>\n",
    "            <th>label</th>\n",
    "            <th>rawPrediction</th>\n",
    "            <th>probability</th>\n",
    "            <th>prediction</th>\n",
    "        </tr>\n",
    "    </thead>\n",
    "    <tbody>\n",
    "        <tr>\n",
    "            <td>(25, [0, 1, 2, 3, 4, 5,...</td>\n",
    "            <td>0</td>\n",
    "            <td>[2.90810234677711...</td>\n",
    "            <td>[0.94824551456035...</td>\n",
    "            <td>0.0</td>\n",
    "        </tr>\n",
    "        <tr>\n",
    "            <td>(25, [0, 1, 2, 3, 4, 5,...</td>\n",
    "            <td>0</td>\n",
    "            <td>[2.51499120414495...</td>\n",
    "            <td>[0.92518609960356...</td>\n",
    "            <td>0.0</td>\n",
    "        </tr>\n",
    "        <tr>\n",
    "            <td>(25, [0, 1, 2, 3, 4, 5,...</td>\n",
    "            <td>0</td>\n",
    "            <td>[0.51086016440655...</td>\n",
    "            <td>[0.62500809542767...</td>\n",
    "            <td>0.0</td>\n",
    "        </tr>\n",
    "    </tbody>\n",
    "</table>\n",
    "\n",
    "Além dos valores de características, os resultados esperados e o valor de predição, existem as colunas `rawPrediction` e `probability`. Essas duas colunas estão muito ligadas ao valor final de predição do modelo.\n",
    "\n",
    "Os valores de `probability` são equivalentes aos valores da regressão depois de passados pela [função de ativação - função logística](https://pt.wikipedia.org/wiki/Fun%C3%A7%C3%A3o_log%C3%ADstica) que abrange valores entre 0 e 1. O valor de predição (em `prediction`), nesse caso, é dado de acordo com o valor de `probability` de forma que:\n",
    "\n",
    "- se `probability` maior ou igual a 0.5, `prediction` será `0`; e\n",
    "\n",
    "- se `probability` menor que 0.5, `prediction` será `1`.\n",
    "\n",
    "Os valores valores em `rawPrediction` são aqueles calculados antes de passarem pela função de ativação, ou seja, são os cálculos da regressão. Por conta dessas características, os valores das colunas `rawPrediction` e `probability` não têm utilidade para o objetivo do curso. Portanto, durante as análises, essas colunas serão ignoradas."
   ]
  },
  {
   "cell_type": "markdown",
   "id": "19fb5a0f-105a-4715-92dc-3737e3f48bc5",
   "metadata": {},
   "source": [
    "### Métricas"
   ]
  },
  {
   "cell_type": "code",
   "execution_count": 27,
   "id": "c81c0a8f-d51c-4507-87d6-483993685854",
   "metadata": {},
   "outputs": [],
   "source": [
    "resumo_lr_treino = modelo_lr.summary"
   ]
  },
  {
   "cell_type": "code",
   "execution_count": 28,
   "id": "9938c01e-d1b4-43ec-b397-55789e3d9a93",
   "metadata": {},
   "outputs": [
    {
     "name": "stdout",
     "output_type": "stream",
     "text": [
      "Acurácia: 0.7849014709963918\n",
      "Precisão: 0.7706855791962175\n",
      "Recall: 0.8125173082248685\n",
      "F1: 0.7910488002156916\n"
     ]
    }
   ],
   "source": [
    "print(f\"Acurácia: {resumo_lr_treino.accuracy}\")\n",
    "print(f\"Precisão: {resumo_lr_treino.precisionByLabel[1]}\")\n",
    "print(f\"Recall: {resumo_lr_treino.recallByLabel[1]}\")\n",
    "print(f\"F1: {resumo_lr_treino.fMeasureByLabel()[1]}\")"
   ]
  },
  {
   "cell_type": "code",
   "execution_count": 29,
   "id": "ed1703df-e59c-424a-8cb3-fb1375714363",
   "metadata": {},
   "outputs": [
    {
     "data": {
      "text/plain": [
       "1256"
      ]
     },
     "execution_count": 29,
     "metadata": {},
     "output_type": "execute_result"
    }
   ],
   "source": [
    "previsoes_lr_teste.select(\"label\", \"prediction\").where((f.col(\"label\") == 1) & (f.col(\"prediction\") == 1)).count()"
   ]
  },
  {
   "cell_type": "code",
   "execution_count": 30,
   "id": "994a874d-f72a-4db6-bc7c-38755f65dcbc",
   "metadata": {},
   "outputs": [
    {
     "name": "stdout",
     "output_type": "stream",
     "text": [
      "tp=1256 tn=1179 fp=400 fn=307\n"
     ]
    }
   ],
   "source": [
    "tp = previsoes_lr_teste.select(\"label\", \"prediction\").where((f.col(\"label\") == 1) & (f.col(\"prediction\") == 1)).count()\n",
    "tn = previsoes_lr_teste.select(\"label\", \"prediction\").where((f.col(\"label\") == 0) & (f.col(\"prediction\") == 0)).count()\n",
    "fp = previsoes_lr_teste.select(\"label\", \"prediction\").where((f.col(\"label\") == 0) & (f.col(\"prediction\") == 1)).count()\n",
    "fn = previsoes_lr_teste.select(\"label\", \"prediction\").where((f.col(\"label\") == 1) & (f.col(\"prediction\") == 0)).count()\n",
    "print(f\"{tp=} {tn=} {fp=} {fn=}\")"
   ]
  },
  {
   "cell_type": "code",
   "execution_count": 31,
   "id": "2e7ed8a4-9684-4d28-b58a-81137e24d2ee",
   "metadata": {},
   "outputs": [],
   "source": [
    "def calcula_mostra_matriz_confusao(df_transform_modelo, normalize: bool = False, percentage: bool = True) -> None:\n",
    "    tp = df_transform_modelo.select(\"label\", \"prediction\").where((f.col(\"label\") == 1) & (f.col(\"prediction\") == 1)).count()\n",
    "    tn = df_transform_modelo.select(\"label\", \"prediction\").where((f.col(\"label\") == 0) & (f.col(\"prediction\") == 0)).count()\n",
    "    fp = df_transform_modelo.select(\"label\", \"prediction\").where((f.col(\"label\") == 0) & (f.col(\"prediction\") == 1)).count()\n",
    "    fn = df_transform_modelo.select(\"label\", \"prediction\").where((f.col(\"label\") == 1) & (f.col(\"prediction\") == 0)).count()\n",
    "\n",
    "    valorP = 1\n",
    "    valorN = 1\n",
    "\n",
    "    if normalize:\n",
    "        valorP = tp + fn\n",
    "        valorN = fp + tn\n",
    "\n",
    "    if percentage and normalize:\n",
    "        valorP = valorP / 100\n",
    "        valorN = valorN / 100\n",
    "\n",
    "    print(\" \" * 20, \"Previsto\")\n",
    "    print(\" \" * 15, \"Churn\", \" \" * 5, \"Não-Churn\")\n",
    "    print(\" \" * 4, \"Churn\", \" \" * 6, int(tp / valorP), \" \" * 7, int(fn / valorP))\n",
    "    print(\"Real\")\n",
    "    print(\" \" * 4, \"Não-Churn\", \" \" * 2, int(fp / valorN), \" \" * 7, int(tn / valorN))"
   ]
  },
  {
   "cell_type": "code",
   "execution_count": 32,
   "id": "af2e5cdb-16be-460c-9713-715311740515",
   "metadata": {},
   "outputs": [
    {
     "name": "stdout",
     "output_type": "stream",
     "text": [
      "                     Previsto\n",
      "                Churn       Não-Churn\n",
      "     Churn        80         19\n",
      "Real\n",
      "     Não-Churn    25         74\n"
     ]
    }
   ],
   "source": [
    "calcula_mostra_matriz_confusao(previsoes_lr_teste, normalize=True)"
   ]
  },
  {
   "cell_type": "markdown",
   "id": "aae7f805-3e73-4fc3-a3c0-5cc38a1c35dd",
   "metadata": {},
   "source": [
    "## 03. Avaliando o novo modelo\n",
    "---"
   ]
  },
  {
   "cell_type": "markdown",
   "id": "08230e9b-e8b7-4ff4-8205-21e56cc640bf",
   "metadata": {},
   "source": [
    "### Para saber mais: como funciona a árvore de decisão?"
   ]
  },
  {
   "cell_type": "markdown",
   "id": "a01b9a20-a6be-4361-a40a-fa60211a9cb0",
   "metadata": {},
   "source": [
    "Se você está se sentindo doente, mas não faz ideia do que possa ser e busca ajuda médica, é feita uma série de perguntas (dor de cabeça? febre? tosse?...). Ao final delas é emitido um parecer informando qual a causa dos sintomas. Nessa situação apresentada foi seguido o mesmo princípio utilizado em um estimador chamado **árvore de decisão**.\n",
    "\n",
    "Árvore de decisão é um dos modelos de previsão mais simples, inspirado na forma que os seres humanos tomam as decisões e tem uma alta interpretabilidade, ou seja, uma compreensão fácil dos passos que foram realizados para conseguir chegar ao resultado final. Ela pode ser utilizada tanto para modelos de regressão, que têm intuito de prever valores numéricos, quanto para modelos de classificação, que têm intuito de prever categorias.\n",
    "\n",
    "Graficamente, a árvore de decisão pode ser representada de forma que cada uma das decisões tomadas no processo possam ser visualizadas. Seus elementos principais são os **nós**, **ramos** e **folhas**. A estrutura da árvore se inicia com um **nó inicial**, também chamado de **raiz**. A partir dela são traçadas **ramificações**, que geram novos nós e o processo se repete para os nós subsequentes até que chegue a uma **folha**, que se trata de um nó especial que tem a informação da resposta, sendo ela uma categoria ou um valor previsto.\n",
    "\n",
    "Cada ramo representa uma tomada de decisão a partir de um valor ou de uma categoria das variáveis explicativas, dividindo o conjunto de dados em nós que apresentam dados com características cada vez mais similares entre si.\n",
    "\n",
    "Para que fiquem mais compreensíveis esses conceitos, vamos a um exemplo.\n",
    "\n",
    "![Orientações sobre a COVID-19](https://cdn3.gnarususercontent.com.br/2276-spark/03/Aula3-img1.png)\n",
    "\n",
    "Na imagem acima, temos uma orientação sobre Covid-19 para que as pessoas sejam direcionadas a ficarem isoladas ou não. A raiz ou nó inicial representa a pergunta se a pessoa está com sintomas de Covid-19, como aquelas perguntas realizadas pelo(a) médico(a) indicadas no início desse texto. A pergunta é respondida através dos ramos que partem da raiz, separando as pessoas que possuem sintomas das que não possuem.\n",
    "\n",
    "O nó referente às pessoas que possuem sintomas se trata de um nó folha, com a decisão final de isolamento social. O nó referente às pessoas que não possuem sintomas se trata de um nó interno, que passa por um novo questionamento, criando assim novos ramos e nós. O processo se repete até que se chegue em decisões finais.\n",
    "\n",
    "Portanto, o esquema se trata de uma árvore de decisão, em que é possível detectar todas as escolhas que foram feitas para se chegar à conclusões finais. O algoritmo de computador seguirá esses mesmos princípios, tomando as decisões com base nas variáveis explicativas.\n",
    "\n",
    "#### Critério na divisão dos nós\n",
    "\n",
    "Para conseguir identificar qual o melhor momento em que um nó deve ser dividido em dois ou mais subnós, o algoritmo da árvore de decisão considera alguns critérios. Os dois principais critérios de divisão usados nas árvores de decisão são:\n",
    "\n",
    "#### Índice Gini\n",
    "\n",
    "Este índice informa o **grau de heterogeneidade** dos dados. O objetivo dele é medir a frequência de um elemento aleatório de um nó ser rotulado de maneira incorreta. Em outros termos, esse índice é capaz de medir a impureza de um nó e ele é determinado por meio do seguinte cálculo:\n",
    "\n",
    "$$\\huge Gini = 1 - \\displaystyle\\sum_{i=1}^k P(i)^2$$\n",
    "\n",
    "Onde:\n",
    "\n",
    "- $\\large P(i)$ representa a frequência relativa das classes em cada um dos nós;\n",
    "\n",
    "- $\\large k$ é o número de classes.\n",
    "\n",
    "Se o índice Gini for igual a 0, isso indica que o nó é puro. No entanto, se o valor dele se aproxima mais do valor 1, o nó é impuro.\n",
    "\n",
    "#### Entropia\n",
    "\n",
    "A ideia básica da entropia é medir a **desordem dos dados** de um nó por meio da variável classificadora. Assim como o índice de Gini, ela é utilizada para caracterizar a impureza dos dados e pode ser calculada por meio da seguinte fórmula:\n",
    "\n",
    "$$\\huge Entropia(S) = \\displaystyle\\sum_{i=1}^c -p_{i} \\log_{2} p_{i}$$\n",
    "\n",
    "Onde:\n",
    "\n",
    "- $\\large p_{i}$ representa a proporção de dados no conjunto de dados $(S)$, pertencentes à classe específica $i$;\n",
    "- $c$ é o número de classes."
   ]
  },
  {
   "cell_type": "markdown",
   "id": "38e47561-0ccc-43ab-a624-1d4ae77bdb04",
   "metadata": {},
   "source": [
    "### Ajuste e previsão"
   ]
  },
  {
   "cell_type": "code",
   "execution_count": 33,
   "id": "0b83e2d6-4c96-4c63-b5ce-f8444fafd195",
   "metadata": {},
   "outputs": [],
   "source": [
    "from pyspark.ml.classification import DecisionTreeClassifier"
   ]
  },
  {
   "cell_type": "code",
   "execution_count": 34,
   "id": "0c8ee366-ed4f-49f0-ae12-037ae25de3b6",
   "metadata": {},
   "outputs": [],
   "source": [
    "dtc = DecisionTreeClassifier(seed=SEED)"
   ]
  },
  {
   "cell_type": "code",
   "execution_count": 35,
   "id": "882e88aa-03b2-4d83-bad5-19dc8ba0320a",
   "metadata": {},
   "outputs": [],
   "source": [
    "modelo_dtc = dtc.fit(treino)"
   ]
  },
  {
   "cell_type": "code",
   "execution_count": 36,
   "id": "ecbb22d9-bb79-479b-a390-371f49160a7f",
   "metadata": {},
   "outputs": [],
   "source": [
    "previsoes_dtc_treino = modelo_dtc.transform(treino)\n",
    "previsoes_dtc_teste = modelo_dtc.transform(teste)"
   ]
  },
  {
   "cell_type": "code",
   "execution_count": 37,
   "id": "d0faa417-f105-4268-b09c-5919eadf730e",
   "metadata": {},
   "outputs": [
    {
     "name": "stdout",
     "output_type": "stream",
     "text": [
      "+--------------------+-----+--------------+--------------------+----------+\n",
      "|            features|label| rawPrediction|         probability|prediction|\n",
      "+--------------------+-----+--------------+--------------------+----------+\n",
      "|(24,[0,1,2,3,4,5,...|    0|[2056.0,334.0]|[0.86025104602510...|       0.0|\n",
      "|(24,[0,1,2,3,4,5,...|    0|[2056.0,334.0]|[0.86025104602510...|       0.0|\n",
      "|(24,[0,1,2,3,4,5,...|    0|    [22.0,3.0]|         [0.88,0.12]|       0.0|\n",
      "|(24,[0,1,2,3,4,5,...|    0|    [22.0,3.0]|         [0.88,0.12]|       0.0|\n",
      "|(24,[0,1,2,3,4,5,...|    0|    [22.0,3.0]|         [0.88,0.12]|       0.0|\n",
      "|(24,[0,1,2,3,4,5,...|    1|[331.0,1951.0]|[0.14504820333041...|       1.0|\n",
      "|(24,[0,1,2,3,4,5,...|    0| [239.0,205.0]|[0.53828828828828...|       0.0|\n",
      "|(24,[0,1,2,3,4,5,...|    1|[331.0,1951.0]|[0.14504820333041...|       1.0|\n",
      "|(24,[0,1,2,3,4,5,...|    0|[331.0,1951.0]|[0.14504820333041...|       1.0|\n",
      "|(24,[0,1,2,3,4,5,...|    0|[331.0,1951.0]|[0.14504820333041...|       1.0|\n",
      "|(24,[0,1,2,3,4,5,...|    0|[331.0,1951.0]|[0.14504820333041...|       1.0|\n",
      "|(24,[0,1,2,3,4,5,...|    0|[2056.0,334.0]|[0.86025104602510...|       0.0|\n",
      "|(24,[0,1,2,3,4,5,...|    0|[331.0,1951.0]|[0.14504820333041...|       1.0|\n",
      "|(24,[0,1,2,3,4,5,...|    0|[2056.0,334.0]|[0.86025104602510...|       0.0|\n",
      "|(24,[0,1,2,3,4,5,...|    0| [239.0,205.0]|[0.53828828828828...|       0.0|\n",
      "|(24,[0,1,2,3,4,5,...|    1| [239.0,205.0]|[0.53828828828828...|       0.0|\n",
      "|(24,[0,1,2,3,4,5,...|    0|[2056.0,334.0]|[0.86025104602510...|       0.0|\n",
      "|(24,[0,1,2,3,4,5,...|    0|  [51.0,141.0]| [0.265625,0.734375]|       1.0|\n",
      "|(24,[0,1,2,3,4,5,...|    0|[2056.0,334.0]|[0.86025104602510...|       0.0|\n",
      "|(24,[0,1,2,3,4,5,...|    0|[2056.0,334.0]|[0.86025104602510...|       0.0|\n",
      "+--------------------+-----+--------------+--------------------+----------+\n",
      "only showing top 20 rows\n",
      "\n"
     ]
    }
   ],
   "source": [
    "previsoes_dtc_treino.show()"
   ]
  },
  {
   "cell_type": "code",
   "execution_count": 38,
   "id": "2389bd74-7a60-4c9e-ad7d-b09fe47a6ff0",
   "metadata": {},
   "outputs": [
    {
     "name": "stdout",
     "output_type": "stream",
     "text": [
      "+--------------------+-----+--------------+--------------------+----------+\n",
      "|            features|label| rawPrediction|         probability|prediction|\n",
      "+--------------------+-----+--------------+--------------------+----------+\n",
      "|(24,[0,1,2,3,4,5,...|    0|[2056.0,334.0]|[0.86025104602510...|       0.0|\n",
      "|(24,[0,1,2,3,4,5,...|    0|  [62.0,128.0]|[0.32631578947368...|       1.0|\n",
      "|(24,[0,1,2,3,4,5,...|    1| [239.0,205.0]|[0.53828828828828...|       0.0|\n",
      "|(24,[0,1,2,3,4,5,...|    1| [239.0,205.0]|[0.53828828828828...|       0.0|\n",
      "|(24,[0,1,2,3,4,5,...|    0| [239.0,205.0]|[0.53828828828828...|       0.0|\n",
      "|(24,[0,1,2,3,4,5,...|    0|  [51.0,141.0]| [0.265625,0.734375]|       1.0|\n",
      "|(24,[0,1,2,3,4,5,...|    0|[331.0,1951.0]|[0.14504820333041...|       1.0|\n",
      "|(24,[0,1,2,3,4,5,...|    0| [239.0,205.0]|[0.53828828828828...|       0.0|\n",
      "|(24,[0,1,2,3,4,5,...|    0|  [63.0,118.0]|[0.34806629834254...|       1.0|\n",
      "|(24,[0,1,2,3,4,5,...|    0|[2056.0,334.0]|[0.86025104602510...|       0.0|\n",
      "|(24,[0,1,2,3,4,5,...|    1|  [63.0,118.0]|[0.34806629834254...|       1.0|\n",
      "|(24,[0,1,2,3,4,5,...|    1|[331.0,1951.0]|[0.14504820333041...|       1.0|\n",
      "|(24,[0,1,2,3,4,5,...|    0|[2056.0,334.0]|[0.86025104602510...|       0.0|\n",
      "|(24,[0,1,2,3,4,8,...|    0| [445.0,181.0]|[0.71086261980830...|       0.0|\n",
      "|(24,[0,1,2,3,4,8,...|    0|[2056.0,334.0]|[0.86025104602510...|       0.0|\n",
      "|(24,[0,1,2,3,4,8,...|    0|[2056.0,334.0]|[0.86025104602510...|       0.0|\n",
      "|(24,[0,1,2,3,5,6,...|    0|[2056.0,334.0]|[0.86025104602510...|       0.0|\n",
      "|(24,[0,1,2,3,5,6,...|    0| [239.0,205.0]|[0.53828828828828...|       0.0|\n",
      "|(24,[0,1,2,3,5,6,...|    0|[2056.0,334.0]|[0.86025104602510...|       0.0|\n",
      "|(24,[0,1,2,3,5,6,...|    0|[2056.0,334.0]|[0.86025104602510...|       0.0|\n",
      "+--------------------+-----+--------------+--------------------+----------+\n",
      "only showing top 20 rows\n",
      "\n"
     ]
    }
   ],
   "source": [
    "previsoes_dtc_teste.show()"
   ]
  },
  {
   "cell_type": "markdown",
   "id": "b5206987-5b98-4d7b-b194-e0e09afcdfde",
   "metadata": {},
   "source": [
    "### Métricas"
   ]
  },
  {
   "cell_type": "code",
   "execution_count": 39,
   "id": "97059f2d-4d48-4429-a108-2b8b945ef9d8",
   "metadata": {},
   "outputs": [],
   "source": [
    "from pyspark.ml.evaluation import MulticlassClassificationEvaluator"
   ]
  },
  {
   "cell_type": "code",
   "execution_count": 40,
   "id": "d455d1f4-d772-4c28-959a-f222195f25b1",
   "metadata": {},
   "outputs": [],
   "source": [
    "evaluator = MulticlassClassificationEvaluator()"
   ]
  },
  {
   "cell_type": "code",
   "execution_count": 41,
   "id": "5660c486-01b9-4816-b0c2-64696ebf5dcf",
   "metadata": {},
   "outputs": [
    {
     "data": {
      "text/plain": [
       "0.7917013599777962"
      ]
     },
     "execution_count": 41,
     "metadata": {},
     "output_type": "execute_result"
    }
   ],
   "source": [
    "evaluator.evaluate(previsoes_dtc_treino, {evaluator.metricName: \"accuracy\"})"
   ]
  },
  {
   "cell_type": "code",
   "execution_count": 42,
   "id": "e0d9cbb8-dbd4-48ab-b8c3-ce10cc703267",
   "metadata": {},
   "outputs": [
    {
     "name": "stdout",
     "output_type": "stream",
     "text": [
      "Decision Tree Classifier\n",
      "========================================\n",
      "Dados de Treino\n",
      "========================================\n",
      "Matriz de Confusão\n",
      "========================================\n",
      "                     Previsto\n",
      "                Churn       Não-Churn\n",
      "     Churn        2784         827\n",
      "Real\n",
      "     Não-Churn    674         2921\n",
      "----------------------------------------\n",
      "Métricas\n",
      "----------------------------------------\n",
      "Acurácia: 0.7917013599777962\n",
      "Precisão: 0.8050896471949104\n",
      "Recall: 0.7709775685405704\n",
      "F1: 0.7876644504173151\n",
      "\n",
      "========================================\n",
      "Dados de Teste\n",
      "========================================\n",
      "Matriz de Confusão\n",
      "========================================\n",
      "                     Previsto\n",
      "                Churn       Não-Churn\n",
      "     Churn        1181         382\n",
      "Real\n",
      "     Não-Churn    336         1243\n",
      "----------------------------------------\n",
      "Métricas\n",
      "----------------------------------------\n",
      "Acurácia: 0.7714831317632082\n",
      "Precisão: 0.7785102175346078\n",
      "Recall: 0.7555982085732565\n",
      "F1: 0.7668831168831168\n"
     ]
    }
   ],
   "source": [
    "print(\"Decision Tree Classifier\")\n",
    "print(\"=\" * 40)\n",
    "print(\"Dados de Treino\")\n",
    "print(\"=\" * 40)\n",
    "print(\"Matriz de Confusão\")\n",
    "print(\"=\" * 40)\n",
    "calcula_mostra_matriz_confusao(previsoes_dtc_treino, normalize=False)\n",
    "print(\"-\" * 40)\n",
    "print(\"Métricas\")\n",
    "print(\"-\" * 40)\n",
    "print(\"Acurácia:\", evaluator.evaluate(previsoes_dtc_treino, {evaluator.metricName: \"accuracy\"}))\n",
    "print(\"Precisão:\", evaluator.evaluate(previsoes_dtc_treino, {evaluator.metricName: \"precisionByLabel\", evaluator.metricLabel: 1}))\n",
    "print(\"Recall:\", evaluator.evaluate(previsoes_dtc_treino, {evaluator.metricName: \"recallByLabel\", evaluator.metricLabel: 1}))\n",
    "print(\"F1:\", evaluator.evaluate(previsoes_dtc_treino, {evaluator.metricName: \"fMeasureByLabel\", evaluator.metricLabel: 1}))\n",
    "print()\n",
    "print(\"=\" * 40)\n",
    "print(\"Dados de Teste\")\n",
    "print(\"=\" * 40)\n",
    "print(\"Matriz de Confusão\")\n",
    "print(\"=\" * 40)\n",
    "calcula_mostra_matriz_confusao(previsoes_dtc_teste, normalize=False)\n",
    "print(\"-\" * 40)\n",
    "print(\"Métricas\")\n",
    "print(\"-\" * 40)\n",
    "print(\"Acurácia:\", evaluator.evaluate(previsoes_dtc_teste, {evaluator.metricName: \"accuracy\"}))\n",
    "print(\"Precisão:\", evaluator.evaluate(previsoes_dtc_teste, {evaluator.metricName: \"precisionByLabel\", evaluator.metricLabel: 1}))\n",
    "print(\"Recall:\", evaluator.evaluate(previsoes_dtc_teste, {evaluator.metricName: \"recallByLabel\", evaluator.metricLabel: 1}))\n",
    "print(\"F1:\", evaluator.evaluate(previsoes_dtc_teste, {evaluator.metricName: \"fMeasureByLabel\", evaluator.metricLabel: 1}))"
   ]
  },
  {
   "cell_type": "markdown",
   "id": "83cb97c8-2344-4aaf-8df0-faee3d3ae2e7",
   "metadata": {},
   "source": [
    "## 04. Comparação entre modelos\n",
    "---"
   ]
  },
  {
   "cell_type": "markdown",
   "id": "60e35956-8350-48f0-a854-ace0942926c8",
   "metadata": {},
   "source": [
    "### Para saber mais: como funciona Random Forest"
   ]
  },
  {
   "cell_type": "markdown",
   "id": "7d0848ac-f3c9-4e4f-bcbc-287dbf10a9fa",
   "metadata": {},
   "source": [
    "As árvores de decisão possuem uma característica que as impedem de serem consideradas como ferramenta ideal: a imprecisão. Isso quer dizer que elas funcionam muito bem com os dados utilizados para criá-las, mas não tão bem para realizar a classificação de novas amostras. A floresta aleatória (random forest) busca resolver esse problema de overfitting (sobreajuste).\n",
    "\n",
    "O algoritmo Random Forest se baseia na utilização de diversas árvores de decisão para encontrar o resultado. Como essa árvore pode ser usada para regressão e classificação, o Random Forest também pode ser utilizado para os dois tipos de problemas. Vamos nos concentrar aqui nos problemas de classificação.\n",
    "\n",
    "Para realizar a previsão, o algoritmo cria diversas árvores de decisão no conjunto de dados e é realizada a predição para cada uma delas. Internamente é feita uma “votação” para analisar qual predição tem maior ocorrência e, então, essa predição torna-se a resposta final. Se fosse utilizada a mesma base de dados na criação de todas as árvores de decisão do Random Forest, as respostas de cada uma das árvores seriam iguais e o resultado da votação seria idêntico a realizar um único modelo de árvore de decisão.\n",
    "\n",
    "Para evitar esse problema, é utilizada uma técnica chamada de **bootstrapping**. Ela consiste em fazer amostragens com reposição do conjunto de dados original e cada uma delas será usada para uma árvore de decisão diferente. A amostragem com reposição significa que, ao sortearmos um elemento, isso não nos impede que ele mesmo apareça em sorteios futuros.\n",
    "\n",
    "Dessa forma, as árvores terão resultados distintos, uma vez que são treinadas com conjuntos de dados diferentes. Na amostragem com repetição, as observações da tabela poderão ficar de fora e outras estarão duplicadas.\n",
    "\n",
    "Para recapitular os passos:\n",
    "\n",
    "- Ao utilizar o modelo Random Forest, podemos escolher a quantidade de árvores de decisão a serem criadas.\n",
    "\n",
    "- O modelo irá criar um conjunto de dados para cada árvore a partir do método bootstrapping na ba de dados original, resultando em um resultado distinto para cada uma das árvores.\n",
    "\n",
    "- Por fim, será feita uma votação entre os resultados das árvores e a classe predita na maioria das árvores é escolhida como a classificação do modelo Random Forest."
   ]
  },
  {
   "cell_type": "markdown",
   "id": "93daa05f-8187-487c-ac32-f7c7b95074db",
   "metadata": {},
   "source": [
    "### Ajuste e Previsão"
   ]
  },
  {
   "cell_type": "code",
   "execution_count": 43,
   "id": "3de0c6c2-266d-432e-93aa-c947c6a70555",
   "metadata": {},
   "outputs": [],
   "source": [
    "from pyspark.ml.classification import RandomForestClassifier"
   ]
  },
  {
   "cell_type": "code",
   "execution_count": 44,
   "id": "24901798-ccf6-4e0d-96bf-a8b9c850d045",
   "metadata": {},
   "outputs": [],
   "source": [
    "rfc = RandomForestClassifier(seed=SEED)"
   ]
  },
  {
   "cell_type": "code",
   "execution_count": 45,
   "id": "6ecd9424-8c3b-4409-b04f-a15f46d3c18a",
   "metadata": {},
   "outputs": [],
   "source": [
    "modelo_rfc = rfc.fit(treino)"
   ]
  },
  {
   "cell_type": "code",
   "execution_count": 46,
   "id": "195f9631-0aec-4234-b520-cd3651a279fa",
   "metadata": {},
   "outputs": [],
   "source": [
    "previsoes_rfc_treino = modelo_rfc.transform(treino)"
   ]
  },
  {
   "cell_type": "code",
   "execution_count": 74,
   "id": "d8d8064c-e18a-4d5f-bdd4-d82498653eab",
   "metadata": {},
   "outputs": [
    {
     "name": "stdout",
     "output_type": "stream",
     "text": [
      "+--------------------+-----+--------------------+--------------------+----------+\n",
      "|            features|label|       rawPrediction|         probability|prediction|\n",
      "+--------------------+-----+--------------------+--------------------+----------+\n",
      "|(24,[0,1,2,3,4,5,...|    0|[15.0052773466704...|[0.75026386733352...|       0.0|\n",
      "|(24,[0,1,2,3,4,5,...|    0|[16.9295040273249...|[0.84647520136624...|       0.0|\n",
      "|(24,[0,1,2,3,4,5,...|    0|[9.13052909106814...|[0.45652645455340...|       1.0|\n",
      "|(24,[0,1,2,3,4,5,...|    0|[9.13052909106814...|[0.45652645455340...|       1.0|\n",
      "|(24,[0,1,2,3,4,5,...|    0|[8.59288938528764...|[0.42964446926438...|       1.0|\n",
      "|(24,[0,1,2,3,4,5,...|    1|[5.59647122885698...|[0.27982356144284...|       1.0|\n",
      "|(24,[0,1,2,3,4,5,...|    0|[9.33276328267787...|[0.46663816413389...|       1.0|\n",
      "|(24,[0,1,2,3,4,5,...|    1|[5.21616013157118...|[0.26080800657855...|       1.0|\n",
      "|(24,[0,1,2,3,4,5,...|    0|[5.45640255581361...|[0.27282012779068...|       1.0|\n",
      "|(24,[0,1,2,3,4,5,...|    0|[4.60442649894724...|[0.23022132494736...|       1.0|\n",
      "|(24,[0,1,2,3,4,5,...|    0|[5.67535692640751...|[0.28376784632037...|       1.0|\n",
      "|(24,[0,1,2,3,4,5,...|    0|[12.0200554644482...|[0.60100277322241...|       0.0|\n",
      "|(24,[0,1,2,3,4,5,...|    0|[4.78964359060310...|[0.23948217953015...|       1.0|\n",
      "|(24,[0,1,2,3,4,5,...|    0|[16.0034864403362...|[0.80017432201681...|       0.0|\n",
      "|(24,[0,1,2,3,4,5,...|    0|[9.33276328267787...|[0.46663816413389...|       1.0|\n",
      "|(24,[0,1,2,3,4,5,...|    1|[7.72923092350890...|[0.38646154617544...|       1.0|\n",
      "|(24,[0,1,2,3,4,5,...|    0|[15.9609332488468...|[0.79804666244234...|       0.0|\n",
      "|(24,[0,1,2,3,4,5,...|    0|[7.08160776437640...|[0.35408038821882...|       1.0|\n",
      "|(24,[0,1,2,3,4,5,...|    0|[18.2497256374866...|[0.91248628187433...|       0.0|\n",
      "|(24,[0,1,2,3,4,5,...|    0|[14.4759069267546...|[0.72379534633773...|       0.0|\n",
      "+--------------------+-----+--------------------+--------------------+----------+\n",
      "only showing top 20 rows\n",
      "\n"
     ]
    }
   ],
   "source": [
    "previsoes_rfc_treino.show()"
   ]
  },
  {
   "cell_type": "markdown",
   "id": "f45bf952-d7dd-4815-9dea-75e6eb0f2693",
   "metadata": {},
   "source": [
    "### Métricas"
   ]
  },
  {
   "cell_type": "code",
   "execution_count": 47,
   "id": "70af518e-99ec-45db-ad75-16850ed7c8b0",
   "metadata": {},
   "outputs": [],
   "source": [
    "previsoes_rfc_teste = modelo_rfc.transform(teste)"
   ]
  },
  {
   "cell_type": "code",
   "execution_count": 76,
   "id": "628aff72-efef-4969-a9f1-06079b4b5e48",
   "metadata": {},
   "outputs": [
    {
     "name": "stdout",
     "output_type": "stream",
     "text": [
      "+--------------------+-----+--------------------+--------------------+----------+\n",
      "|            features|label|       rawPrediction|         probability|prediction|\n",
      "+--------------------+-----+--------------------+--------------------+----------+\n",
      "|(24,[0,1,2,3,4,5,...|    0|[16.7433871675615...|[0.83716935837807...|       0.0|\n",
      "|(24,[0,1,2,3,4,5,...|    0|[7.27313214599648...|[0.36365660729982...|       1.0|\n",
      "|(24,[0,1,2,3,4,5,...|    1|[7.46885072161585...|[0.37344253608079...|       1.0|\n",
      "|(24,[0,1,2,3,4,5,...|    1|[9.33276328267787...|[0.46663816413389...|       1.0|\n",
      "|(24,[0,1,2,3,4,5,...|    0|[7.79829004739264...|[0.38991450236963...|       1.0|\n",
      "|(24,[0,1,2,3,4,5,...|    0|[7.13263407834549...|[0.35663170391727...|       1.0|\n",
      "|(24,[0,1,2,3,4,5,...|    0|[4.45872635511159...|[0.22293631775557...|       1.0|\n",
      "|(24,[0,1,2,3,4,5,...|    0|[7.84691519125130...|[0.39234575956256...|       1.0|\n",
      "|(24,[0,1,2,3,4,5,...|    0|[9.94796150783366...|[0.49739807539168...|       1.0|\n",
      "|(24,[0,1,2,3,4,5,...|    0|[13.9419392354793...|[0.69709696177396...|       0.0|\n",
      "|(24,[0,1,2,3,4,5,...|    1|[5.91309232317621...|[0.29565461615881...|       1.0|\n",
      "|(24,[0,1,2,3,4,5,...|    1|[4.00056870239560...|[0.20002843511978...|       1.0|\n",
      "|(24,[0,1,2,3,4,5,...|    0|[18.3120509476018...|[0.91560254738009...|       0.0|\n",
      "|(24,[0,1,2,3,4,8,...|    0|[11.9244461164393...|[0.59622230582196...|       0.0|\n",
      "|(24,[0,1,2,3,4,8,...|    0|[15.3485289130138...|[0.76742644565069...|       0.0|\n",
      "|(24,[0,1,2,3,4,8,...|    0|[16.5284444417352...|[0.82642222208676...|       0.0|\n",
      "|(24,[0,1,2,3,5,6,...|    0|[18.0005759997679...|[0.90002879998839...|       0.0|\n",
      "|(24,[0,1,2,3,5,6,...|    0|[12.7577462101532...|[0.63788731050766...|       0.0|\n",
      "|(24,[0,1,2,3,5,6,...|    0|[17.3802234084668...|[0.86901117042334...|       0.0|\n",
      "|(24,[0,1,2,3,5,6,...|    0|[17.2590921858649...|[0.86295460929324...|       0.0|\n",
      "+--------------------+-----+--------------------+--------------------+----------+\n",
      "only showing top 20 rows\n",
      "\n"
     ]
    }
   ],
   "source": [
    "previsoes_rfc_teste.show()"
   ]
  },
  {
   "cell_type": "code",
   "execution_count": 48,
   "id": "96a70119-9e15-46dc-b9cb-0c36e01c0acc",
   "metadata": {},
   "outputs": [
    {
     "name": "stdout",
     "output_type": "stream",
     "text": [
      "Random Forest Classifier\n",
      "========================================\n",
      "Dados de Treino\n",
      "========================================\n",
      "Matriz de Confusão\n",
      "========================================\n",
      "                     Previsto\n",
      "                Churn       Não-Churn\n",
      "     Churn        2950         661\n",
      "Real\n",
      "     Não-Churn    884         2711\n",
      "----------------------------------------\n",
      "Métricas\n",
      "----------------------------------------\n",
      "Acurácia: 0.7855953372189842\n",
      "Precisão: 0.7694314032342201\n",
      "Recall: 0.8169482137911935\n",
      "F1: 0.7924781732706514\n",
      "\n",
      "========================================\n",
      "Dados de Teste\n",
      "========================================\n",
      "Matriz de Confusão\n",
      "========================================\n",
      "                     Previsto\n",
      "                Churn       Não-Churn\n",
      "     Churn        1257         306\n",
      "Real\n",
      "     Não-Churn    416         1163\n",
      "----------------------------------------\n",
      "Métricas\n",
      "----------------------------------------\n",
      "Acurácia: 0.7702100572883513\n",
      "Precisão: 0.7513448894202033\n",
      "Recall: 0.8042226487523992\n",
      "F1: 0.7768850432632881\n"
     ]
    }
   ],
   "source": [
    "print(\"Random Forest Classifier\")\n",
    "print(\"=\" * 40)\n",
    "print(\"Dados de Treino\")\n",
    "print(\"=\" * 40)\n",
    "print(\"Matriz de Confusão\")\n",
    "print(\"=\" * 40)\n",
    "calcula_mostra_matriz_confusao(previsoes_rfc_treino, normalize=False)\n",
    "print(\"-\" * 40)\n",
    "print(\"Métricas\")\n",
    "print(\"-\" * 40)\n",
    "print(\"Acurácia:\", evaluator.evaluate(previsoes_rfc_treino, {evaluator.metricName: \"accuracy\"}))\n",
    "print(\"Precisão:\", evaluator.evaluate(previsoes_rfc_treino, {evaluator.metricName: \"precisionByLabel\", evaluator.metricLabel: 1}))\n",
    "print(\"Recall:\", evaluator.evaluate(previsoes_rfc_treino, {evaluator.metricName: \"recallByLabel\", evaluator.metricLabel: 1}))\n",
    "print(\"F1:\", evaluator.evaluate(previsoes_rfc_treino, {evaluator.metricName: \"fMeasureByLabel\", evaluator.metricLabel: 1}))\n",
    "print()\n",
    "print(\"=\" * 40)\n",
    "print(\"Dados de Teste\")\n",
    "print(\"=\" * 40)\n",
    "print(\"Matriz de Confusão\")\n",
    "print(\"=\" * 40)\n",
    "calcula_mostra_matriz_confusao(previsoes_rfc_teste, normalize=False)\n",
    "print(\"-\" * 40)\n",
    "print(\"Métricas\")\n",
    "print(\"-\" * 40)\n",
    "print(\"Acurácia:\", evaluator.evaluate(previsoes_rfc_teste, {evaluator.metricName: \"accuracy\"}))\n",
    "print(\"Precisão:\", evaluator.evaluate(previsoes_rfc_teste, {evaluator.metricName: \"precisionByLabel\", evaluator.metricLabel: 1}))\n",
    "print(\"Recall:\", evaluator.evaluate(previsoes_rfc_teste, {evaluator.metricName: \"recallByLabel\", evaluator.metricLabel: 1}))\n",
    "print(\"F1:\", evaluator.evaluate(previsoes_rfc_teste, {evaluator.metricName: \"fMeasureByLabel\", evaluator.metricLabel: 1}))"
   ]
  },
  {
   "cell_type": "markdown",
   "id": "3eee02f3-527e-4bc2-82d0-dfd98bd911b5",
   "metadata": {},
   "source": [
    "## 05. Técnicas de otimização\n",
    "---"
   ]
  },
  {
   "cell_type": "markdown",
   "id": "35efc57c-3968-4752-93ca-d7bdc0086473",
   "metadata": {},
   "source": [
    "### Para saber mais: o que são hiperparâmetros?"
   ]
  },
  {
   "cell_type": "markdown",
   "id": "f1673161-fbef-4cc1-9a29-f935a59ec63a",
   "metadata": {},
   "source": [
    "Cada um dos modelos de machine learning possui um comportamento distinto para prever os resultados utilizando métodos matemáticos e computacionais. O comportamento de um modelo dependerá de constantes, parâmetros ou características para que a fórmula matemática ou procedimento computacional se comporte de maneira diferente.\n",
    "\n",
    "Esses argumentos que controlam o comportamento de um modelo de machine learning são chamados de **hiperparâmetros**. Ao alterar o valor desses parâmetros, modificamos também o desempenho do modelo, uma vez que, para cada conjunto de dados diferentes, é necessário um ajuste diferente dos hiperparâmetros para um modelo ser melhor adaptado a esse conjunto.\n",
    "\n",
    "A árvore de decisão, por exemplo, possui uma característica chamada **profundidade** que diz respeito ao comprimento do caminho mais longo da raiz até uma folha da árvore. Uma profundidade muito grande permite que o modelo se ajuste melhor aos dados e classifique os registros de uma forma mais precisa.\n",
    "\n",
    "Por outro lado, uma profundidade muito pequena pode fazer com que não existam muitas ramificações e os dados não sejam classificados de forma correta, pois o modelo não conseguiu “decidir” sobre como classificar os dados apresentados, por exemplo.\n",
    "\n",
    "Desse modo, deve haver um equilíbrio no valor da profundidade, uma vez que se o modelo se ajustar perfeitamente aos dados de treinamento, não será capaz de generalizar para um conjunto de dados nunca visto, ocorrendo o que chamamos de overfitting (sobreajuste).\n",
    "\n",
    "O modelo de árvore de decisão utitilizada para classificação, disponível na biblioteca [PySpark](https://spark.apache.org/docs/latest/ml-classification-regression.html), possui o parâmetro que controla a característica mencionada anteriormente chamado de `max_depth`, que é o hiperparâmetro que controla a profundidade da árvore.\n",
    "\n",
    "Através da [documentação do DecisionTreeClassifier](https://spark.apache.org/docs/latest/api/python/reference/api/pyspark.ml.classification.DecisionTreeClassifier.html), podemos verificar, dentro dos argumentos da função, os hiperparâmetros desse modelo:\n",
    "\n",
    "```python\n",
    "class pyspark.ml.classification.DecisionTreeClassifier(*, featuresCol='features', labelCol='label', predictionCol='prediction', probabilityCol='probability', rawPredictionCol='rawPrediction', maxDepth=5, maxBins=32, minInstancesPerNode=1, minInfoGain=0.0, maxMemoryInMB=256, cacheNodeIds=False, checkpointInterval=10, impurity='gini', seed=None, weightCol=None, leafCol='', minWeightFractionPerNode=0.0)\n",
    "```\n",
    "\n",
    "Outro hiperparâmetro que pode ser controlado na árvore de decisão é o `minInstancesPerNode`, que está relacionado à quantidade mínima de amostras dos dados de treinamento para cada folha. Isso significa que, se há um nó na árvore com a quantidade de registros definida em `minInstancesPerNode`, este nó não pode ser dividido em outros nós. Ao utilizar um modelo sem definir um valor para os hiperparâmetros, os valores padrões serão utilizados. Em grande parte das vezes, não são as melhores opções para os dados."
   ]
  },
  {
   "cell_type": "markdown",
   "id": "6f1dfd67-c724-44b3-a159-da448c2fac3c",
   "metadata": {},
   "source": [
    "### Árvore de decisão com CV"
   ]
  },
  {
   "cell_type": "code",
   "execution_count": 49,
   "id": "39194dae-9a15-4768-ae7f-4766abe1da00",
   "metadata": {},
   "outputs": [],
   "source": [
    "from pyspark.ml.tuning import CrossValidator, ParamGridBuilder"
   ]
  },
  {
   "cell_type": "code",
   "execution_count": 50,
   "id": "0cbf029b-8d34-4303-94eb-e8a01b23aa2e",
   "metadata": {},
   "outputs": [],
   "source": [
    "dtc = DecisionTreeClassifier(seed=SEED)"
   ]
  },
  {
   "cell_type": "code",
   "execution_count": 51,
   "id": "460c3209-1162-4354-97f2-54329ba6ae92",
   "metadata": {},
   "outputs": [],
   "source": [
    "grid = ParamGridBuilder() \\\n",
    "    .addGrid(dtc.maxDepth, [2, 5, 10]) \\\n",
    "    .addGrid(dtc.maxBins, [10, 32, 45]) \\\n",
    "    .build()"
   ]
  },
  {
   "cell_type": "code",
   "execution_count": 52,
   "id": "1a256229-621b-4443-9a50-c3fdcd6e73a7",
   "metadata": {},
   "outputs": [],
   "source": [
    "evaluator = MulticlassClassificationEvaluator()"
   ]
  },
  {
   "cell_type": "code",
   "execution_count": 53,
   "id": "8a90fe57-fd52-4612-b1b8-1070a3b3735c",
   "metadata": {},
   "outputs": [],
   "source": [
    "dtc_cv = CrossValidator(\n",
    "    estimator=dtc,\n",
    "    estimatorParamMaps=grid,\n",
    "    evaluator=evaluator,\n",
    "    numFolds=3,\n",
    "    seed=SEED\n",
    ")"
   ]
  },
  {
   "cell_type": "code",
   "execution_count": 54,
   "id": "3409d597-236f-4bc3-b0d2-2a44375d73d4",
   "metadata": {},
   "outputs": [
    {
     "name": "stderr",
     "output_type": "stream",
     "text": [
      "                                                                                "
     ]
    }
   ],
   "source": [
    "modelo_dtc_cv = dtc_cv.fit(treino)"
   ]
  },
  {
   "cell_type": "code",
   "execution_count": 56,
   "id": "3893cbd9-6f66-4917-abcd-906da9e972ea",
   "metadata": {},
   "outputs": [],
   "source": [
    "previsoes_dtc_cv_treino = modelo_dtc_cv.transform(treino)\n",
    "previsoes_dtc_cv_teste = modelo_dtc_cv.transform(teste)"
   ]
  },
  {
   "cell_type": "code",
   "execution_count": 57,
   "id": "395b9247-07ef-4ffe-9096-40f87b8a4715",
   "metadata": {},
   "outputs": [
    {
     "name": "stdout",
     "output_type": "stream",
     "text": [
      "Decision Tree Classifier - Cross Validator\n",
      "========================================\n",
      "Dados de Treino\n",
      "========================================\n",
      "Matriz de Confusão\n",
      "========================================\n",
      "                     Previsto\n",
      "                Churn       Não-Churn\n",
      "     Churn        3255         356\n",
      "Real\n",
      "     Não-Churn    654         2941\n",
      "----------------------------------------\n",
      "Métricas\n",
      "----------------------------------------\n",
      "Acurácia: 0.8598390230363586\n",
      "Precisão: 0.8326937835763623\n",
      "Recall: 0.9014123511492661\n",
      "F1: 0.865691489361702\n",
      "\n",
      "========================================\n",
      "Dados de Teste\n",
      "========================================\n",
      "Matriz de Confusão\n",
      "========================================\n",
      "                     Previsto\n",
      "                Churn       Não-Churn\n",
      "     Churn        1319         244\n",
      "Real\n",
      "     Não-Churn    430         1149\n",
      "----------------------------------------\n",
      "Métricas\n",
      "----------------------------------------\n",
      "Acurácia: 0.7854869509866327\n",
      "Precisão: 0.7541452258433391\n",
      "Recall: 0.8438899552143314\n",
      "F1: 0.7964975845410629\n"
     ]
    }
   ],
   "source": [
    "print(\"Decision Tree Classifier - Cross Validator\")\n",
    "print(\"=\" * 40)\n",
    "print(\"Dados de Treino\")\n",
    "print(\"=\" * 40)\n",
    "print(\"Matriz de Confusão\")\n",
    "print(\"=\" * 40)\n",
    "calcula_mostra_matriz_confusao(previsoes_dtc_cv_treino, normalize=False)\n",
    "print(\"-\" * 40)\n",
    "print(\"Métricas\")\n",
    "print(\"-\" * 40)\n",
    "print(\"Acurácia:\", evaluator.evaluate(previsoes_dtc_cv_treino, {evaluator.metricName: \"accuracy\"}))\n",
    "print(\"Precisão:\", evaluator.evaluate(previsoes_dtc_cv_treino, {evaluator.metricName: \"precisionByLabel\", evaluator.metricLabel: 1}))\n",
    "print(\"Recall:\", evaluator.evaluate(previsoes_dtc_cv_treino, {evaluator.metricName: \"recallByLabel\", evaluator.metricLabel: 1}))\n",
    "print(\"F1:\", evaluator.evaluate(previsoes_dtc_cv_treino, {evaluator.metricName: \"fMeasureByLabel\", evaluator.metricLabel: 1}))\n",
    "print()\n",
    "print(\"=\" * 40)\n",
    "print(\"Dados de Teste\")\n",
    "print(\"=\" * 40)\n",
    "print(\"Matriz de Confusão\")\n",
    "print(\"=\" * 40)\n",
    "calcula_mostra_matriz_confusao(previsoes_dtc_cv_teste, normalize=False)\n",
    "print(\"-\" * 40)\n",
    "print(\"Métricas\")\n",
    "print(\"-\" * 40)\n",
    "print(\"Acurácia:\", evaluator.evaluate(previsoes_dtc_cv_teste, {evaluator.metricName: \"accuracy\"}))\n",
    "print(\"Precisão:\", evaluator.evaluate(previsoes_dtc_cv_teste, {evaluator.metricName: \"precisionByLabel\", evaluator.metricLabel: 1}))\n",
    "print(\"Recall:\", evaluator.evaluate(previsoes_dtc_cv_teste, {evaluator.metricName: \"recallByLabel\", evaluator.metricLabel: 1}))\n",
    "print(\"F1:\", evaluator.evaluate(previsoes_dtc_cv_teste, {evaluator.metricName: \"fMeasureByLabel\", evaluator.metricLabel: 1}))"
   ]
  },
  {
   "cell_type": "markdown",
   "id": "74df24df-f652-4640-bf07-28a70b31d2b8",
   "metadata": {},
   "source": [
    "### Random Forest com CV"
   ]
  },
  {
   "cell_type": "code",
   "execution_count": 58,
   "id": "6c266cbe-8149-4681-a1c1-47d3c7fcd6d7",
   "metadata": {},
   "outputs": [],
   "source": [
    "rfc = RandomForestClassifier(seed=SEED)"
   ]
  },
  {
   "cell_type": "code",
   "execution_count": 59,
   "id": "a53c5b85-e67d-4327-b032-6e41395ba569",
   "metadata": {},
   "outputs": [],
   "source": [
    "grid = ParamGridBuilder() \\\n",
    "    .addGrid(rfc.maxDepth, [2, 5, 10]) \\\n",
    "    .addGrid(rfc.maxBins, [10, 32, 45]) \\\n",
    "    .addGrid(rfc.numTrees, [10, 20, 50]) \\\n",
    "    .build()"
   ]
  },
  {
   "cell_type": "code",
   "execution_count": 60,
   "id": "fcf42116-d69b-4ef8-9be8-6bb2226dd285",
   "metadata": {},
   "outputs": [],
   "source": [
    "evaluator = MulticlassClassificationEvaluator()"
   ]
  },
  {
   "cell_type": "code",
   "execution_count": 61,
   "id": "3ae33836-9b90-4580-954d-c603cc24beaf",
   "metadata": {},
   "outputs": [],
   "source": [
    "rfc_cv = CrossValidator(\n",
    "    estimator=rfc,\n",
    "    estimatorParamMaps=grid,\n",
    "    evaluator=evaluator,\n",
    "    numFolds=3,\n",
    "    seed=SEED\n",
    ")"
   ]
  },
  {
   "cell_type": "code",
   "execution_count": 62,
   "id": "1d08510a-9eb6-4cf1-8b28-0f0511ff0d68",
   "metadata": {},
   "outputs": [
    {
     "name": "stderr",
     "output_type": "stream",
     "text": [
      "25/09/03 14:46:45 WARN DAGScheduler: Broadcasting large task binary with size 1008.8 KiB\n",
      "25/09/03 14:46:47 WARN DAGScheduler: Broadcasting large task binary with size 1375.8 KiB\n",
      "25/09/03 14:46:57 WARN DAGScheduler: Broadcasting large task binary with size 1470.6 KiB\n",
      "25/09/03 14:46:59 WARN DAGScheduler: Broadcasting large task binary with size 2.1 MiB\n",
      "25/09/03 14:47:03 WARN DAGScheduler: Broadcasting large task binary with size 3.0 MiB\n",
      "25/09/03 14:47:07 WARN DAGScheduler: Broadcasting large task binary with size 1834.6 KiB\n",
      "25/09/03 14:47:27 WARN DAGScheduler: Broadcasting large task binary with size 1310.5 KiB\n",
      "25/09/03 14:47:38 WARN DAGScheduler: Broadcasting large task binary with size 1462.2 KiB\n",
      "25/09/03 14:47:40 WARN DAGScheduler: Broadcasting large task binary with size 2.1 MiB\n",
      "25/09/03 14:47:44 WARN DAGScheduler: Broadcasting large task binary with size 3.0 MiB\n",
      "25/09/03 14:47:48 WARN DAGScheduler: Broadcasting large task binary with size 1912.8 KiB\n",
      "25/09/03 14:48:08 WARN DAGScheduler: Broadcasting large task binary with size 1329.6 KiB\n",
      "25/09/03 14:48:20 WARN DAGScheduler: Broadcasting large task binary with size 1466.6 KiB\n",
      "25/09/03 14:48:22 WARN DAGScheduler: Broadcasting large task binary with size 2.1 MiB\n",
      "25/09/03 14:48:25 WARN DAGScheduler: Broadcasting large task binary with size 2.9 MiB\n",
      "25/09/03 14:48:30 WARN DAGScheduler: Broadcasting large task binary with size 1919.0 KiB\n",
      "25/09/03 14:49:48 WARN DAGScheduler: Broadcasting large task binary with size 1311.9 KiB\n",
      "25/09/03 14:49:58 WARN DAGScheduler: Broadcasting large task binary with size 1446.0 KiB\n",
      "25/09/03 14:50:00 WARN DAGScheduler: Broadcasting large task binary with size 2.1 MiB\n",
      "25/09/03 14:50:04 WARN DAGScheduler: Broadcasting large task binary with size 2.9 MiB\n",
      "25/09/03 14:50:08 WARN DAGScheduler: Broadcasting large task binary with size 1821.3 KiB\n",
      "25/09/03 14:50:28 WARN DAGScheduler: Broadcasting large task binary with size 1315.2 KiB\n",
      "25/09/03 14:50:40 WARN DAGScheduler: Broadcasting large task binary with size 1434.8 KiB\n",
      "25/09/03 14:50:42 WARN DAGScheduler: Broadcasting large task binary with size 2.1 MiB\n",
      "25/09/03 14:50:46 WARN DAGScheduler: Broadcasting large task binary with size 2.9 MiB\n",
      "25/09/03 14:50:50 WARN DAGScheduler: Broadcasting large task binary with size 1902.0 KiB\n",
      "25/09/03 14:51:11 WARN DAGScheduler: Broadcasting large task binary with size 1316.8 KiB\n",
      "25/09/03 14:51:22 WARN DAGScheduler: Broadcasting large task binary with size 1442.1 KiB\n",
      "25/09/03 14:51:24 WARN DAGScheduler: Broadcasting large task binary with size 2.1 MiB\n",
      "25/09/03 14:51:28 WARN DAGScheduler: Broadcasting large task binary with size 2.9 MiB\n",
      "25/09/03 14:51:32 WARN DAGScheduler: Broadcasting large task binary with size 1885.6 KiB\n",
      "25/09/03 14:52:53 WARN DAGScheduler: Broadcasting large task binary with size 1346.5 KiB\n",
      "25/09/03 14:53:04 WARN DAGScheduler: Broadcasting large task binary with size 1481.3 KiB\n",
      "25/09/03 14:53:07 WARN DAGScheduler: Broadcasting large task binary with size 2.1 MiB\n",
      "25/09/03 14:53:10 WARN DAGScheduler: Broadcasting large task binary with size 3.0 MiB\n",
      "25/09/03 14:53:15 WARN DAGScheduler: Broadcasting large task binary with size 1882.5 KiB\n",
      "25/09/03 14:53:36 WARN DAGScheduler: Broadcasting large task binary with size 1323.0 KiB\n",
      "25/09/03 14:53:47 WARN DAGScheduler: Broadcasting large task binary with size 1461.2 KiB\n",
      "25/09/03 14:53:49 WARN DAGScheduler: Broadcasting large task binary with size 2.1 MiB\n",
      "25/09/03 14:53:53 WARN DAGScheduler: Broadcasting large task binary with size 3.0 MiB\n",
      "25/09/03 14:53:57 WARN DAGScheduler: Broadcasting large task binary with size 1932.3 KiB\n",
      "25/09/03 14:54:18 WARN DAGScheduler: Broadcasting large task binary with size 1295.3 KiB\n",
      "25/09/03 14:54:29 WARN DAGScheduler: Broadcasting large task binary with size 1450.2 KiB\n",
      "25/09/03 14:54:32 WARN DAGScheduler: Broadcasting large task binary with size 2.1 MiB\n",
      "25/09/03 14:54:36 WARN DAGScheduler: Broadcasting large task binary with size 3.0 MiB\n",
      "25/09/03 14:54:40 WARN DAGScheduler: Broadcasting large task binary with size 1938.4 KiB\n",
      "25/09/03 14:54:45 WARN DAGScheduler: Broadcasting large task binary with size 1468.3 KiB\n",
      "25/09/03 14:54:46 WARN DAGScheduler: Broadcasting large task binary with size 2.2 MiB\n",
      "25/09/03 14:54:46 WARN DAGScheduler: Broadcasting large task binary with size 3.1 MiB\n"
     ]
    }
   ],
   "source": [
    "modelo_rfc_cv = rfc_cv.fit(treino)"
   ]
  },
  {
   "cell_type": "code",
   "execution_count": 63,
   "id": "482d6137-b875-488e-9b7a-6437c2980961",
   "metadata": {},
   "outputs": [],
   "source": [
    "previsoes_rfc_cv_treino = modelo_rfc_cv.transform(treino)\n",
    "previsoes_rfc_cv_teste = modelo_rfc_cv.transform(teste)"
   ]
  },
  {
   "cell_type": "code",
   "execution_count": 65,
   "id": "0a9d4f79-e7ae-4c0e-a3de-647ad2866759",
   "metadata": {},
   "outputs": [
    {
     "name": "stdout",
     "output_type": "stream",
     "text": [
      "Random Forest Classifier - Cross Validator\n",
      "========================================\n",
      "Dados de Treino\n",
      "========================================\n",
      "Matriz de Confusão\n",
      "========================================\n"
     ]
    },
    {
     "name": "stderr",
     "output_type": "stream",
     "text": [
      "25/09/03 14:57:45 WARN DAGScheduler: Broadcasting large task binary with size 1932.7 KiB\n",
      "25/09/03 14:57:45 WARN DAGScheduler: Broadcasting large task binary with size 1932.7 KiB\n",
      "25/09/03 14:57:46 WARN DAGScheduler: Broadcasting large task binary with size 1932.7 KiB\n",
      "25/09/03 14:57:46 WARN DAGScheduler: Broadcasting large task binary with size 1932.7 KiB\n"
     ]
    },
    {
     "name": "stdout",
     "output_type": "stream",
     "text": [
      "                     Previsto\n",
      "                Churn       Não-Churn\n",
      "     Churn        3264         347\n",
      "Real\n",
      "     Não-Churn    628         2967\n",
      "----------------------------------------\n",
      "Métricas\n",
      "----------------------------------------\n"
     ]
    },
    {
     "name": "stderr",
     "output_type": "stream",
     "text": [
      "25/09/03 14:57:47 WARN DAGScheduler: Broadcasting large task binary with size 1942.0 KiB\n"
     ]
    },
    {
     "name": "stdout",
     "output_type": "stream",
     "text": [
      "Acurácia: 0.8646960865945046\n"
     ]
    },
    {
     "name": "stderr",
     "output_type": "stream",
     "text": [
      "25/09/03 14:57:47 WARN DAGScheduler: Broadcasting large task binary with size 1942.0 KiB\n"
     ]
    },
    {
     "name": "stdout",
     "output_type": "stream",
     "text": [
      "Precisão: 0.8386433710174718\n"
     ]
    },
    {
     "name": "stderr",
     "output_type": "stream",
     "text": [
      "25/09/03 14:57:48 WARN DAGScheduler: Broadcasting large task binary with size 1942.0 KiB\n"
     ]
    },
    {
     "name": "stdout",
     "output_type": "stream",
     "text": [
      "Recall: 0.903904735530324\n"
     ]
    },
    {
     "name": "stderr",
     "output_type": "stream",
     "text": [
      "25/09/03 14:57:48 WARN DAGScheduler: Broadcasting large task binary with size 1942.0 KiB\n"
     ]
    },
    {
     "name": "stdout",
     "output_type": "stream",
     "text": [
      "F1: 0.8700519792083167\n",
      "\n",
      "========================================\n",
      "Dados de Teste\n",
      "========================================\n",
      "Matriz de Confusão\n",
      "========================================\n"
     ]
    },
    {
     "name": "stderr",
     "output_type": "stream",
     "text": [
      "25/09/03 14:57:48 WARN DAGScheduler: Broadcasting large task binary with size 1932.7 KiB\n",
      "25/09/03 14:57:49 WARN DAGScheduler: Broadcasting large task binary with size 1932.7 KiB\n",
      "25/09/03 14:57:49 WARN DAGScheduler: Broadcasting large task binary with size 1932.7 KiB\n",
      "25/09/03 14:57:50 WARN DAGScheduler: Broadcasting large task binary with size 1932.7 KiB\n"
     ]
    },
    {
     "name": "stdout",
     "output_type": "stream",
     "text": [
      "                     Previsto\n",
      "                Churn       Não-Churn\n",
      "     Churn        1333         230\n",
      "Real\n",
      "     Não-Churn    337         1242\n",
      "----------------------------------------\n",
      "Métricas\n",
      "----------------------------------------\n"
     ]
    },
    {
     "name": "stderr",
     "output_type": "stream",
     "text": [
      "25/09/03 14:57:50 WARN DAGScheduler: Broadcasting large task binary with size 1942.0 KiB\n"
     ]
    },
    {
     "name": "stdout",
     "output_type": "stream",
     "text": [
      "Acurácia: 0.8195416931890516\n"
     ]
    },
    {
     "name": "stderr",
     "output_type": "stream",
     "text": [
      "25/09/03 14:57:50 WARN DAGScheduler: Broadcasting large task binary with size 1942.0 KiB\n"
     ]
    },
    {
     "name": "stdout",
     "output_type": "stream",
     "text": [
      "Precisão: 0.7982035928143713\n"
     ]
    },
    {
     "name": "stderr",
     "output_type": "stream",
     "text": [
      "25/09/03 14:57:51 WARN DAGScheduler: Broadcasting large task binary with size 1942.0 KiB\n"
     ]
    },
    {
     "name": "stdout",
     "output_type": "stream",
     "text": [
      "Recall: 0.8528470889315419\n",
      "F1: 0.8246210949582431\n"
     ]
    },
    {
     "name": "stderr",
     "output_type": "stream",
     "text": [
      "25/09/03 14:57:51 WARN DAGScheduler: Broadcasting large task binary with size 1942.0 KiB\n"
     ]
    }
   ],
   "source": [
    "print(\"Random Forest Classifier - Cross Validator\")\n",
    "print(\"=\" * 40)\n",
    "print(\"Dados de Treino\")\n",
    "print(\"=\" * 40)\n",
    "print(\"Matriz de Confusão\")\n",
    "print(\"=\" * 40)\n",
    "calcula_mostra_matriz_confusao(previsoes_rfc_cv_treino, normalize=False)\n",
    "print(\"-\" * 40)\n",
    "print(\"Métricas\")\n",
    "print(\"-\" * 40)\n",
    "print(\"Acurácia:\", evaluator.evaluate(previsoes_rfc_cv_treino, {evaluator.metricName: \"accuracy\"}))\n",
    "print(\"Precisão:\", evaluator.evaluate(previsoes_rfc_cv_treino, {evaluator.metricName: \"precisionByLabel\", evaluator.metricLabel: 1}))\n",
    "print(\"Recall:\", evaluator.evaluate(previsoes_rfc_cv_treino, {evaluator.metricName: \"recallByLabel\", evaluator.metricLabel: 1}))\n",
    "print(\"F1:\", evaluator.evaluate(previsoes_rfc_cv_treino, {evaluator.metricName: \"fMeasureByLabel\", evaluator.metricLabel: 1}))\n",
    "print()\n",
    "print(\"=\" * 40)\n",
    "print(\"Dados de Teste\")\n",
    "print(\"=\" * 40)\n",
    "print(\"Matriz de Confusão\")\n",
    "print(\"=\" * 40)\n",
    "calcula_mostra_matriz_confusao(previsoes_rfc_cv_teste, normalize=False)\n",
    "print(\"-\" * 40)\n",
    "print(\"Métricas\")\n",
    "print(\"-\" * 40)\n",
    "print(\"Acurácia:\", evaluator.evaluate(previsoes_rfc_cv_teste, {evaluator.metricName: \"accuracy\"}))\n",
    "print(\"Precisão:\", evaluator.evaluate(previsoes_rfc_cv_teste, {evaluator.metricName: \"precisionByLabel\", evaluator.metricLabel: 1}))\n",
    "print(\"Recall:\", evaluator.evaluate(previsoes_rfc_cv_teste, {evaluator.metricName: \"recallByLabel\", evaluator.metricLabel: 1}))\n",
    "print(\"F1:\", evaluator.evaluate(previsoes_rfc_cv_teste, {evaluator.metricName: \"fMeasureByLabel\", evaluator.metricLabel: 1}))"
   ]
  },
  {
   "cell_type": "code",
   "execution_count": 66,
   "id": "4725b39e-51b4-42ac-9d11-f4c7b7f0feb3",
   "metadata": {},
   "outputs": [],
   "source": [
    "melhor_modelo_rfc_cv = modelo_rfc_cv.bestModel"
   ]
  },
  {
   "cell_type": "code",
   "execution_count": 68,
   "id": "6ce544f6-8b34-4cdc-aecb-e3e728aa9d03",
   "metadata": {},
   "outputs": [
    {
     "name": "stdout",
     "output_type": "stream",
     "text": [
      "10\n",
      "45\n",
      "50\n"
     ]
    }
   ],
   "source": [
    "print(melhor_modelo_rfc_cv.getMaxDepth())\n",
    "print(melhor_modelo_rfc_cv.getMaxBins())\n",
    "print(melhor_modelo_rfc_cv.getNumTrees)"
   ]
  },
  {
   "cell_type": "code",
   "execution_count": 69,
   "id": "185afffb-e6ba-438f-991b-8204df2e8226",
   "metadata": {},
   "outputs": [],
   "source": [
    "rfc_tuning = RandomForestClassifier(maxDepth=10, maxBins=45, numTrees=50, seed=SEED)"
   ]
  },
  {
   "cell_type": "code",
   "execution_count": 70,
   "id": "81339e70-52ff-4ac4-af59-069652e0ce5f",
   "metadata": {},
   "outputs": [
    {
     "name": "stderr",
     "output_type": "stream",
     "text": [
      "25/09/03 15:02:40 WARN DAGScheduler: Broadcasting large task binary with size 1539.7 KiB\n",
      "25/09/03 15:02:41 WARN DAGScheduler: Broadcasting large task binary with size 2.4 MiB\n",
      "25/09/03 15:02:41 WARN DAGScheduler: Broadcasting large task binary with size 3.5 MiB\n"
     ]
    }
   ],
   "source": [
    "modelo_rfc_tuning = rfc_tuning.fit(dataset_prep)"
   ]
  },
  {
   "cell_type": "code",
   "execution_count": 71,
   "id": "6e83191c-19f3-4629-bd75-15d73779162c",
   "metadata": {},
   "outputs": [
    {
     "data": {
      "text/plain": [
       "['Mais65anos',\n",
       " 'MesesDeContrato',\n",
       " 'MesesCobrados',\n",
       " 'Conjuge',\n",
       " 'Dependentes',\n",
       " 'TelefoneFixo',\n",
       " 'MaisDeUmaLinhaTelefonica',\n",
       " 'SegurancaOnline',\n",
       " 'BackupOnline',\n",
       " 'SeguroDispositivo',\n",
       " 'SuporteTecnico',\n",
       " 'TVaCabo',\n",
       " 'StreamingFilmes',\n",
       " 'ContaCorreio',\n",
       " 'Internet_DSL',\n",
       " 'Internet_FibraOptica',\n",
       " 'Internet_Nao',\n",
       " 'TipoContrato_Mensalmente',\n",
       " 'TipoContrato_UmAno',\n",
       " 'TipoContrato_DoisAnos',\n",
       " 'MetodoPagamento_DebitoEmConta',\n",
       " 'MetodoPagamento_CartaoCredito',\n",
       " 'MetodoPagamento_BoletoEletronico',\n",
       " 'MetodoPagamento_Boleto']"
      ]
     },
     "execution_count": 71,
     "metadata": {},
     "output_type": "execute_result"
    }
   ],
   "source": [
    "X"
   ]
  },
  {
   "cell_type": "code",
   "execution_count": 72,
   "id": "79e25f31-9ec5-40e6-b73d-eadb81738424",
   "metadata": {},
   "outputs": [],
   "source": [
    "novo_cliente = [\n",
    "    {\n",
    "        \"Mais65anos\": 0,\n",
    "        \"MesesDeContrato\": 1,\n",
    "        \"MesesCobrados\": 45.30540797610398,\n",
    "        \"Conjuge\": 0,\n",
    "        \"Dependentes\": 0,\n",
    "        \"TelefoneFixo\": 0,\n",
    "        \"MaisDeUmaLinhaTelefonica\": 0,\n",
    "        \"SegurancaOnline\": 0,\n",
    "        \"BackupOnline\": 0,\n",
    "        \"SeguroDispositivo\": 0,\n",
    "        \"SuporteTecnico\": 0,\n",
    "        \"TVaCabo\": 1,\n",
    "        \"StreamingFilmes\": 1,\n",
    "        \"ContaCorreio\": 1,\n",
    "        \"Internet_DSL\": 1,\n",
    "        \"Internet_FibraOptica\": 0,\n",
    "        \"Internet_Nao\": 0,\n",
    "        \"TipoContrato_Mensalmente\": 1,\n",
    "        \"TipoContrato_UmAno\": 0,\n",
    "        \"TipoContrato_DoisAnos\": 0,\n",
    "        \"MetodoPagamento_DebitoEmConta\": 0,\n",
    "        \"MetodoPagamento_CartaoCredito\": 0,\n",
    "        \"MetodoPagamento_BoletoEletronico\": 1,\n",
    "        \"MetodoPagamento_Boleto\": 0\n",
    "    }\n",
    "]"
   ]
  },
  {
   "cell_type": "code",
   "execution_count": 73,
   "id": "f2d268e2-641b-4ac8-b0f2-fca0e3c1986d",
   "metadata": {},
   "outputs": [
    {
     "name": "stderr",
     "output_type": "stream",
     "text": [
      "                                                                                "
     ]
    },
    {
     "name": "stdout",
     "output_type": "stream",
     "text": [
      "+------------+-------+------------+-----------+------------+--------------------+------------+----------+------------------------+-----------------+---------------+----------------------+--------------------------------+-----------------------------+-----------------------------+---------------+-----------------+---------------+--------------+-------+------------+---------------------+------------------------+------------------+\n",
      "|BackupOnline|Conjuge|ContaCorreio|Dependentes|Internet_DSL|Internet_FibraOptica|Internet_Nao|Mais65anos|MaisDeUmaLinhaTelefonica|    MesesCobrados|MesesDeContrato|MetodoPagamento_Boleto|MetodoPagamento_BoletoEletronico|MetodoPagamento_CartaoCredito|MetodoPagamento_DebitoEmConta|SegurancaOnline|SeguroDispositivo|StreamingFilmes|SuporteTecnico|TVaCabo|TelefoneFixo|TipoContrato_DoisAnos|TipoContrato_Mensalmente|TipoContrato_UmAno|\n",
      "+------------+-------+------------+-----------+------------+--------------------+------------+----------+------------------------+-----------------+---------------+----------------------+--------------------------------+-----------------------------+-----------------------------+---------------+-----------------+---------------+--------------+-------+------------+---------------------+------------------------+------------------+\n",
      "|           0|      0|           1|          0|           1|                   0|           0|         0|                       0|45.30540797610398|              1|                     0|                               1|                            0|                            0|              0|                0|              1|             0|      1|           0|                    0|                       1|                 0|\n",
      "+------------+-------+------------+-----------+------------+--------------------+------------+----------+------------------------+-----------------+---------------+----------------------+--------------------------------+-----------------------------+-----------------------------+---------------+-----------------+---------------+--------------+-------+------------+---------------------+------------------------+------------------+\n",
      "\n"
     ]
    }
   ],
   "source": [
    "novo_cliente = spark.createDataFrame(novo_cliente)\n",
    "novo_cliente.show()"
   ]
  },
  {
   "cell_type": "code",
   "execution_count": 74,
   "id": "b355eb82-4961-477e-8435-d870ce48e961",
   "metadata": {},
   "outputs": [],
   "source": [
    "assembler = VectorAssembler(inputCols=X, outputCol=\"features\")"
   ]
  },
  {
   "cell_type": "code",
   "execution_count": 75,
   "id": "7d405b1a-fb70-4f06-89dd-25664bc23ed7",
   "metadata": {},
   "outputs": [],
   "source": [
    "novo_cliente_prep = assembler.transform(novo_cliente).select(\"features\")"
   ]
  },
  {
   "cell_type": "code",
   "execution_count": 76,
   "id": "4d40cab5-6db6-4337-8822-fbc555354d0a",
   "metadata": {},
   "outputs": [
    {
     "name": "stdout",
     "output_type": "stream",
     "text": [
      "+--------------------+\n",
      "|            features|\n",
      "+--------------------+\n",
      "|(24,[1,2,11,12,13...|\n",
      "+--------------------+\n",
      "\n"
     ]
    }
   ],
   "source": [
    "novo_cliente_prep.show()"
   ]
  },
  {
   "cell_type": "code",
   "execution_count": 77,
   "id": "414d0b29-b24c-4985-adde-3762619cddf7",
   "metadata": {},
   "outputs": [
    {
     "name": "stderr",
     "output_type": "stream",
     "text": [
      "25/09/03 15:09:04 WARN DAGScheduler: Broadcasting large task binary with size 2027.9 KiB\n",
      "25/09/03 15:09:04 WARN DAGScheduler: Broadcasting large task binary with size 2027.9 KiB\n",
      "25/09/03 15:09:04 WARN DAGScheduler: Broadcasting large task binary with size 2027.9 KiB\n"
     ]
    },
    {
     "name": "stdout",
     "output_type": "stream",
     "text": [
      "+--------------------+--------------------+--------------------+----------+\n",
      "|            features|       rawPrediction|         probability|prediction|\n",
      "+--------------------+--------------------+--------------------+----------+\n",
      "|(24,[1,2,11,12,13...|[5.16473071594386...|[0.10329461431887...|       1.0|\n",
      "+--------------------+--------------------+--------------------+----------+\n",
      "\n"
     ]
    }
   ],
   "source": [
    "modelo_rfc_tuning.transform(novo_cliente_prep).show()"
   ]
  },
  {
   "cell_type": "code",
   "execution_count": 78,
   "id": "f9eb63c0-21e0-4ee9-a7a0-f37bd68a00db",
   "metadata": {},
   "outputs": [],
   "source": [
    "spark.stop()"
   ]
  }
 ],
 "metadata": {
  "kernelspec": {
   "display_name": "Spark Classificação (.venv)",
   "language": "python",
   "name": ".venv"
  },
  "language_info": {
   "codemirror_mode": {
    "name": "ipython",
    "version": 3
   },
   "file_extension": ".py",
   "mimetype": "text/x-python",
   "name": "python",
   "nbconvert_exporter": "python",
   "pygments_lexer": "ipython3",
   "version": "3.12.2"
  }
 },
 "nbformat": 4,
 "nbformat_minor": 5
}
